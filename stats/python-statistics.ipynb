{
 "cells": [
  {
   "cell_type": "code",
   "execution_count": 1,
   "id": "2cfeac6d-10eb-488c-b2bd-11127913740c",
   "metadata": {},
   "outputs": [],
   "source": [
    "import pandas as pd"
   ]
  },
  {
   "cell_type": "code",
   "execution_count": 2,
   "id": "251cec79-56a5-4824-9cc5-70b17f0fd818",
   "metadata": {},
   "outputs": [
    {
     "data": {
      "text/plain": [
       "[23, 24, 32, 45, 12, 43, 67, 45, 32, 56, 32]"
      ]
     },
     "execution_count": 2,
     "metadata": {},
     "output_type": "execute_result"
    }
   ],
   "source": [
    "data = [23,24,32,45,12,43,67,45,32,56,32]\n",
    "data"
   ]
  },
  {
   "cell_type": "code",
   "execution_count": 3,
   "id": "9f4f0825-7893-4487-b473-858498437b5a",
   "metadata": {},
   "outputs": [],
   "source": [
    "data2 = pd.read_csv(\"https://raw.githubusercontent.com/saverin0/data-science/refs/heads/main/stats/Iris.csv\")"
   ]
  },
  {
   "cell_type": "code",
   "execution_count": 4,
   "id": "01a45278-2c55-441f-ba07-951cc7bc71e7",
   "metadata": {},
   "outputs": [
    {
     "data": {
      "text/html": [
       "<div>\n",
       "<style scoped>\n",
       "    .dataframe tbody tr th:only-of-type {\n",
       "        vertical-align: middle;\n",
       "    }\n",
       "\n",
       "    .dataframe tbody tr th {\n",
       "        vertical-align: top;\n",
       "    }\n",
       "\n",
       "    .dataframe thead th {\n",
       "        text-align: right;\n",
       "    }\n",
       "</style>\n",
       "<table border=\"1\" class=\"dataframe\">\n",
       "  <thead>\n",
       "    <tr style=\"text-align: right;\">\n",
       "      <th></th>\n",
       "      <th>Id</th>\n",
       "      <th>SepalLengthCm</th>\n",
       "      <th>SepalWidthCm</th>\n",
       "      <th>PetalLengthCm</th>\n",
       "      <th>PetalWidthCm</th>\n",
       "      <th>Species</th>\n",
       "    </tr>\n",
       "  </thead>\n",
       "  <tbody>\n",
       "    <tr>\n",
       "      <th>0</th>\n",
       "      <td>1</td>\n",
       "      <td>5.1</td>\n",
       "      <td>3.5</td>\n",
       "      <td>1.4</td>\n",
       "      <td>0.2</td>\n",
       "      <td>Iris-setosa</td>\n",
       "    </tr>\n",
       "    <tr>\n",
       "      <th>1</th>\n",
       "      <td>2</td>\n",
       "      <td>4.9</td>\n",
       "      <td>3.0</td>\n",
       "      <td>1.4</td>\n",
       "      <td>0.2</td>\n",
       "      <td>Iris-setosa</td>\n",
       "    </tr>\n",
       "    <tr>\n",
       "      <th>2</th>\n",
       "      <td>3</td>\n",
       "      <td>4.7</td>\n",
       "      <td>3.2</td>\n",
       "      <td>1.3</td>\n",
       "      <td>0.2</td>\n",
       "      <td>Iris-setosa</td>\n",
       "    </tr>\n",
       "    <tr>\n",
       "      <th>3</th>\n",
       "      <td>4</td>\n",
       "      <td>4.6</td>\n",
       "      <td>3.1</td>\n",
       "      <td>1.5</td>\n",
       "      <td>0.2</td>\n",
       "      <td>Iris-setosa</td>\n",
       "    </tr>\n",
       "    <tr>\n",
       "      <th>4</th>\n",
       "      <td>5</td>\n",
       "      <td>5.0</td>\n",
       "      <td>3.6</td>\n",
       "      <td>1.4</td>\n",
       "      <td>0.2</td>\n",
       "      <td>Iris-setosa</td>\n",
       "    </tr>\n",
       "  </tbody>\n",
       "</table>\n",
       "</div>"
      ],
      "text/plain": [
       "   Id  SepalLengthCm  SepalWidthCm  PetalLengthCm  PetalWidthCm      Species\n",
       "0   1            5.1           3.5            1.4           0.2  Iris-setosa\n",
       "1   2            4.9           3.0            1.4           0.2  Iris-setosa\n",
       "2   3            4.7           3.2            1.3           0.2  Iris-setosa\n",
       "3   4            4.6           3.1            1.5           0.2  Iris-setosa\n",
       "4   5            5.0           3.6            1.4           0.2  Iris-setosa"
      ]
     },
     "execution_count": 4,
     "metadata": {},
     "output_type": "execute_result"
    }
   ],
   "source": [
    "data2.head()"
   ]
  },
  {
   "cell_type": "code",
   "execution_count": 5,
   "id": "e3b890ae-5500-4d4a-98e0-4e6fafe7bbdd",
   "metadata": {},
   "outputs": [],
   "source": [
    "data3 = pd.read_csv(\"https://raw.githubusercontent.com/saverin0/data-science/refs/heads/main/stats/Titanic.csv\")"
   ]
  },
  {
   "cell_type": "code",
   "execution_count": 6,
   "id": "546f8ffd-335f-42c5-8f5d-880b947701e7",
   "metadata": {},
   "outputs": [
    {
     "data": {
      "text/html": [
       "<div>\n",
       "<style scoped>\n",
       "    .dataframe tbody tr th:only-of-type {\n",
       "        vertical-align: middle;\n",
       "    }\n",
       "\n",
       "    .dataframe tbody tr th {\n",
       "        vertical-align: top;\n",
       "    }\n",
       "\n",
       "    .dataframe thead th {\n",
       "        text-align: right;\n",
       "    }\n",
       "</style>\n",
       "<table border=\"1\" class=\"dataframe\">\n",
       "  <thead>\n",
       "    <tr style=\"text-align: right;\">\n",
       "      <th></th>\n",
       "      <th>PassengerId</th>\n",
       "      <th>Survived</th>\n",
       "      <th>Pclass</th>\n",
       "      <th>Name</th>\n",
       "      <th>Sex</th>\n",
       "      <th>Age</th>\n",
       "      <th>SibSp</th>\n",
       "      <th>Parch</th>\n",
       "      <th>Ticket</th>\n",
       "      <th>Fare</th>\n",
       "      <th>Cabin</th>\n",
       "      <th>Embarked</th>\n",
       "    </tr>\n",
       "  </thead>\n",
       "  <tbody>\n",
       "    <tr>\n",
       "      <th>0</th>\n",
       "      <td>1</td>\n",
       "      <td>0</td>\n",
       "      <td>3</td>\n",
       "      <td>Braund, Mr. Owen Harris</td>\n",
       "      <td>male</td>\n",
       "      <td>22.0</td>\n",
       "      <td>1</td>\n",
       "      <td>0</td>\n",
       "      <td>A/5 21171</td>\n",
       "      <td>7.2500</td>\n",
       "      <td>NaN</td>\n",
       "      <td>S</td>\n",
       "    </tr>\n",
       "    <tr>\n",
       "      <th>1</th>\n",
       "      <td>2</td>\n",
       "      <td>1</td>\n",
       "      <td>1</td>\n",
       "      <td>Cumings, Mrs. John Bradley (Florence Briggs Th...</td>\n",
       "      <td>female</td>\n",
       "      <td>38.0</td>\n",
       "      <td>1</td>\n",
       "      <td>0</td>\n",
       "      <td>PC 17599</td>\n",
       "      <td>71.2833</td>\n",
       "      <td>C85</td>\n",
       "      <td>C</td>\n",
       "    </tr>\n",
       "    <tr>\n",
       "      <th>2</th>\n",
       "      <td>3</td>\n",
       "      <td>1</td>\n",
       "      <td>3</td>\n",
       "      <td>Heikkinen, Miss. Laina</td>\n",
       "      <td>female</td>\n",
       "      <td>26.0</td>\n",
       "      <td>0</td>\n",
       "      <td>0</td>\n",
       "      <td>STON/O2. 3101282</td>\n",
       "      <td>7.9250</td>\n",
       "      <td>NaN</td>\n",
       "      <td>S</td>\n",
       "    </tr>\n",
       "    <tr>\n",
       "      <th>3</th>\n",
       "      <td>4</td>\n",
       "      <td>1</td>\n",
       "      <td>1</td>\n",
       "      <td>Futrelle, Mrs. Jacques Heath (Lily May Peel)</td>\n",
       "      <td>female</td>\n",
       "      <td>35.0</td>\n",
       "      <td>1</td>\n",
       "      <td>0</td>\n",
       "      <td>113803</td>\n",
       "      <td>53.1000</td>\n",
       "      <td>C123</td>\n",
       "      <td>S</td>\n",
       "    </tr>\n",
       "    <tr>\n",
       "      <th>4</th>\n",
       "      <td>5</td>\n",
       "      <td>0</td>\n",
       "      <td>3</td>\n",
       "      <td>Allen, Mr. William Henry</td>\n",
       "      <td>male</td>\n",
       "      <td>35.0</td>\n",
       "      <td>0</td>\n",
       "      <td>0</td>\n",
       "      <td>373450</td>\n",
       "      <td>8.0500</td>\n",
       "      <td>NaN</td>\n",
       "      <td>S</td>\n",
       "    </tr>\n",
       "  </tbody>\n",
       "</table>\n",
       "</div>"
      ],
      "text/plain": [
       "   PassengerId  Survived  Pclass  \\\n",
       "0            1         0       3   \n",
       "1            2         1       1   \n",
       "2            3         1       3   \n",
       "3            4         1       1   \n",
       "4            5         0       3   \n",
       "\n",
       "                                                Name     Sex   Age  SibSp  \\\n",
       "0                            Braund, Mr. Owen Harris    male  22.0      1   \n",
       "1  Cumings, Mrs. John Bradley (Florence Briggs Th...  female  38.0      1   \n",
       "2                             Heikkinen, Miss. Laina  female  26.0      0   \n",
       "3       Futrelle, Mrs. Jacques Heath (Lily May Peel)  female  35.0      1   \n",
       "4                           Allen, Mr. William Henry    male  35.0      0   \n",
       "\n",
       "   Parch            Ticket     Fare Cabin Embarked  \n",
       "0      0         A/5 21171   7.2500   NaN        S  \n",
       "1      0          PC 17599  71.2833   C85        C  \n",
       "2      0  STON/O2. 3101282   7.9250   NaN        S  \n",
       "3      0            113803  53.1000  C123        S  \n",
       "4      0            373450   8.0500   NaN        S  "
      ]
     },
     "execution_count": 6,
     "metadata": {},
     "output_type": "execute_result"
    }
   ],
   "source": [
    "data3.head()"
   ]
  },
  {
   "cell_type": "code",
   "execution_count": 7,
   "id": "8433d012-8678-4c7b-ae03-db0bbdf009ee",
   "metadata": {},
   "outputs": [],
   "source": [
    "data_copy=data.copy()"
   ]
  },
  {
   "cell_type": "code",
   "execution_count": 8,
   "id": "d5f754d0-72b5-44ac-a935-63837578efab",
   "metadata": {},
   "outputs": [
    {
     "data": {
      "text/plain": [
       "[23, 24, 32, 45, 12, 43, 67, 45, 32, 56, 32]"
      ]
     },
     "execution_count": 8,
     "metadata": {},
     "output_type": "execute_result"
    }
   ],
   "source": [
    "data_copy"
   ]
  },
  {
   "cell_type": "code",
   "execution_count": 9,
   "id": "ad39958e-bbd0-45fd-bf7d-07351a0baf10",
   "metadata": {},
   "outputs": [],
   "source": [
    "data_copy.sort()"
   ]
  },
  {
   "cell_type": "code",
   "execution_count": 10,
   "id": "ac8bcd0a-086e-4b6f-953a-1f99412471b9",
   "metadata": {},
   "outputs": [
    {
     "data": {
      "text/plain": [
       "[12, 23, 24, 32, 32, 32, 43, 45, 45, 56, 67]"
      ]
     },
     "execution_count": 10,
     "metadata": {},
     "output_type": "execute_result"
    }
   ],
   "source": [
    "data_copy"
   ]
  },
  {
   "cell_type": "raw",
   "id": "e2327432-bb06-4d8c-aed0-fa2ade008b60",
   "metadata": {},
   "source": [
    "pandas\n",
    "numpy\n",
    "matplotlin and seaborn\n",
    "scipy\n",
    "statsmodel\n",
    "stastistics"
   ]
  },
  {
   "cell_type": "code",
   "execution_count": 13,
   "id": "6f6d8241-293f-4ca7-9834-90cf25850b22",
   "metadata": {},
   "outputs": [],
   "source": [
    "import numpy as np "
   ]
  },
  {
   "cell_type": "code",
   "execution_count": 14,
   "id": "92477bdf-6ac7-4406-8bd9-6f293a3a4b09",
   "metadata": {},
   "outputs": [
    {
     "data": {
      "text/plain": [
       "[23, 24, 32, 45, 12, 43, 67, 45, 32, 56, 32]"
      ]
     },
     "execution_count": 14,
     "metadata": {},
     "output_type": "execute_result"
    }
   ],
   "source": [
    "data"
   ]
  },
  {
   "cell_type": "code",
   "execution_count": 15,
   "id": "bbdbe2e7-6a45-4eb3-a968-5aa607c5c0a9",
   "metadata": {},
   "outputs": [
    {
     "data": {
      "text/plain": [
       "37.36363636363637"
      ]
     },
     "execution_count": 15,
     "metadata": {},
     "output_type": "execute_result"
    }
   ],
   "source": [
    "np.mean(data)"
   ]
  },
  {
   "cell_type": "code",
   "execution_count": 18,
   "id": "62f9e320-779a-48db-bcf8-afac43144643",
   "metadata": {},
   "outputs": [
    {
     "data": {
      "text/plain": [
       "32.0"
      ]
     },
     "execution_count": 18,
     "metadata": {},
     "output_type": "execute_result"
    }
   ],
   "source": [
    "np.median(data)"
   ]
  },
  {
   "cell_type": "code",
   "execution_count": 19,
   "id": "d631d5d6-0ac6-4a33-b2d5-58b5396ae3e1",
   "metadata": {},
   "outputs": [
    {
     "ename": "AttributeError",
     "evalue": "module 'numpy' has no attribute 'mode'",
     "output_type": "error",
     "traceback": [
      "\u001b[1;31m---------------------------------------------------------------------------\u001b[0m",
      "\u001b[1;31mAttributeError\u001b[0m                            Traceback (most recent call last)",
      "Cell \u001b[1;32mIn[19], line 1\u001b[0m\n\u001b[1;32m----> 1\u001b[0m np\u001b[38;5;241m.\u001b[39mmode(data)\n",
      "File \u001b[1;32mC:\\ProgramData\\anaconda3\\Lib\\site-packages\\numpy\\__init__.py:333\u001b[0m, in \u001b[0;36m__getattr__\u001b[1;34m(attr)\u001b[0m\n\u001b[0;32m    330\u001b[0m     \u001b[38;5;124m\"\u001b[39m\u001b[38;5;124mRemoved in NumPy 1.25.0\u001b[39m\u001b[38;5;124m\"\u001b[39m\n\u001b[0;32m    331\u001b[0m     \u001b[38;5;28;01mraise\u001b[39;00m \u001b[38;5;167;01mRuntimeError\u001b[39;00m(\u001b[38;5;124m\"\u001b[39m\u001b[38;5;124mTester was removed in NumPy 1.25.\u001b[39m\u001b[38;5;124m\"\u001b[39m)\n\u001b[1;32m--> 333\u001b[0m \u001b[38;5;28;01mraise\u001b[39;00m \u001b[38;5;167;01mAttributeError\u001b[39;00m(\u001b[38;5;124m\"\u001b[39m\u001b[38;5;124mmodule \u001b[39m\u001b[38;5;132;01m{!r}\u001b[39;00m\u001b[38;5;124m has no attribute \u001b[39m\u001b[38;5;124m\"\u001b[39m\n\u001b[0;32m    334\u001b[0m                      \u001b[38;5;124m\"\u001b[39m\u001b[38;5;132;01m{!r}\u001b[39;00m\u001b[38;5;124m\"\u001b[39m\u001b[38;5;241m.\u001b[39mformat(\u001b[38;5;18m__name__\u001b[39m, attr))\n",
      "\u001b[1;31mAttributeError\u001b[0m: module 'numpy' has no attribute 'mode'"
     ]
    }
   ],
   "source": [
    "np.mode(data) #we don't have mode in np"
   ]
  },
  {
   "cell_type": "code",
   "execution_count": null,
   "id": "94966fd1-4e3f-4c1e-837d-8fbeffeb4ece",
   "metadata": {},
   "outputs": [],
   "source": [
    "import statistics"
   ]
  },
  {
   "cell_type": "code",
   "execution_count": null,
   "id": "4e546ea5-902b-4b1e-abf4-a95c1e5afe46",
   "metadata": {},
   "outputs": [],
   "source": [
    "statistics.mode(data)"
   ]
  },
  {
   "cell_type": "code",
   "execution_count": null,
   "id": "e8bf2bc9-33c2-485c-9380-dd1e666b0492",
   "metadata": {},
   "outputs": [],
   "source": [
    "from scipy import stats as st"
   ]
  },
  {
   "cell_type": "code",
   "execution_count": null,
   "id": "4b9c807c-cf76-4fd4-8ad5-dde51231297f",
   "metadata": {},
   "outputs": [],
   "source": [
    "st.mode(data)"
   ]
  },
  {
   "cell_type": "code",
   "execution_count": null,
   "id": "d6d2520c-d5c4-41e4-a67d-95dcdce9276f",
   "metadata": {},
   "outputs": [],
   "source": [
    "def mean(data):\n",
    "    sum = 0\n",
    "    for i in data:\n",
    "        sum = sum + i\n",
    "\n",
    "    mean = sum / len(data)\n",
    "\n",
    "    return mean"
   ]
  },
  {
   "cell_type": "code",
   "execution_count": null,
   "id": "33b8b35d-03c6-416d-a47c-27c128a62e27",
   "metadata": {},
   "outputs": [],
   "source": [
    "mean(data)"
   ]
  },
  {
   "cell_type": "code",
   "execution_count": null,
   "id": "fc29c4f0-1cc8-41d5-8321-10fdf3ff972e",
   "metadata": {},
   "outputs": [],
   "source": [
    "data_copy"
   ]
  },
  {
   "cell_type": "code",
   "execution_count": null,
   "id": "720ef673-5cfc-43b7-83ad-71eb549ad90f",
   "metadata": {},
   "outputs": [],
   "source": [
    "data_copy.append(150)"
   ]
  },
  {
   "cell_type": "code",
   "execution_count": null,
   "id": "616adae5-224b-49c1-9712-90b54b02fc81",
   "metadata": {},
   "outputs": [],
   "source": [
    "data_copy"
   ]
  },
  {
   "cell_type": "code",
   "execution_count": null,
   "id": "97726fea-ad23-44f5-9836-d2688ee250d6",
   "metadata": {},
   "outputs": [],
   "source": [
    "data_copy2 = data.copy()"
   ]
  },
  {
   "cell_type": "code",
   "execution_count": null,
   "id": "474d276f-483e-4d0d-bd91-04993d53f7b5",
   "metadata": {},
   "outputs": [],
   "source": [
    "data_copy2.append(75)"
   ]
  },
  {
   "cell_type": "code",
   "execution_count": 21,
   "id": "2284033f-2b1e-45b7-b29e-dc8b3e0fa596",
   "metadata": {},
   "outputs": [
    {
     "ename": "NameError",
     "evalue": "name 'data_copy2' is not defined",
     "output_type": "error",
     "traceback": [
      "\u001b[1;31m---------------------------------------------------------------------------\u001b[0m",
      "\u001b[1;31mNameError\u001b[0m                                 Traceback (most recent call last)",
      "Cell \u001b[1;32mIn[21], line 1\u001b[0m\n\u001b[1;32m----> 1\u001b[0m data_copy2\n",
      "\u001b[1;31mNameError\u001b[0m: name 'data_copy2' is not defined"
     ]
    }
   ],
   "source": [
    "data_copy2"
   ]
  },
  {
   "cell_type": "code",
   "execution_count": null,
   "id": "cc32dbf0-6397-4f83-a6b2-5e945604b53f",
   "metadata": {},
   "outputs": [],
   "source": [
    "np.mean(data_copy2)"
   ]
  },
  {
   "cell_type": "code",
   "execution_count": 23,
   "id": "95293133-cd48-4059-b4d1-1fb6260bd1ea",
   "metadata": {},
   "outputs": [
    {
     "data": {
      "text/plain": [
       "37.36363636363637"
      ]
     },
     "execution_count": 23,
     "metadata": {},
     "output_type": "execute_result"
    }
   ],
   "source": [
    "np.mean(data_copy)"
   ]
  },
  {
   "cell_type": "code",
   "execution_count": 26,
   "id": "2c299cbc-fdc1-4b0f-b24d-ad6a73ee7c43",
   "metadata": {},
   "outputs": [
    {
     "ename": "NameError",
     "evalue": "name 'data_copy2' is not defined",
     "output_type": "error",
     "traceback": [
      "\u001b[1;31m---------------------------------------------------------------------------\u001b[0m",
      "\u001b[1;31mNameError\u001b[0m                                 Traceback (most recent call last)",
      "Cell \u001b[1;32mIn[26], line 1\u001b[0m\n\u001b[1;32m----> 1\u001b[0m data_copy2\n",
      "\u001b[1;31mNameError\u001b[0m: name 'data_copy2' is not defined"
     ]
    }
   ],
   "source": [
    "data_copy2"
   ]
  },
  {
   "cell_type": "code",
   "execution_count": 28,
   "id": "8265021a-a16f-4f16-b7b0-91141c4ec7a4",
   "metadata": {},
   "outputs": [
    {
     "data": {
      "text/plain": [
       "[12, 23, 24, 32, 32, 32, 43, 45, 45, 56, 67]"
      ]
     },
     "execution_count": 28,
     "metadata": {},
     "output_type": "execute_result"
    }
   ],
   "source": [
    "data_copy"
   ]
  },
  {
   "cell_type": "code",
   "execution_count": 30,
   "id": "d22063e9-1a30-4ec7-8bd2-02a29dd5aeb8",
   "metadata": {},
   "outputs": [
    {
     "data": {
      "text/plain": [
       "67"
      ]
     },
     "execution_count": 30,
     "metadata": {},
     "output_type": "execute_result"
    }
   ],
   "source": [
    "data_copy.pop()"
   ]
  },
  {
   "cell_type": "code",
   "execution_count": 32,
   "id": "f4e6103c-3125-495f-9698-2098406b93a7",
   "metadata": {},
   "outputs": [
    {
     "data": {
      "text/plain": [
       "[23, 24, 32, 45, 12, 43, 67, 45, 32, 56, 32]"
      ]
     },
     "execution_count": 32,
     "metadata": {},
     "output_type": "execute_result"
    }
   ],
   "source": [
    "data"
   ]
  },
  {
   "cell_type": "code",
   "execution_count": 34,
   "id": "13b12b0e-56ed-4a38-8ef0-53dce19ed036",
   "metadata": {},
   "outputs": [
    {
     "data": {
      "text/plain": [
       "[12, 23, 24, 32, 32, 32, 43, 45, 45, 56]"
      ]
     },
     "execution_count": 34,
     "metadata": {},
     "output_type": "execute_result"
    }
   ],
   "source": [
    "data_copy"
   ]
  },
  {
   "cell_type": "code",
   "execution_count": 36,
   "id": "02d63d5f-6bda-44d5-a6c2-b8decb89ebe8",
   "metadata": {},
   "outputs": [
    {
     "data": {
      "text/plain": [
       "array([28.])"
      ]
     },
     "execution_count": 36,
     "metadata": {},
     "output_type": "execute_result"
    }
   ],
   "source": [
    "np.percentile(data,[25])"
   ]
  },
  {
   "cell_type": "code",
   "execution_count": 38,
   "id": "0f8faf25-f501-46fd-803c-e19dab681a98",
   "metadata": {},
   "outputs": [
    {
     "data": {
      "text/plain": [
       "array([32.])"
      ]
     },
     "execution_count": 38,
     "metadata": {},
     "output_type": "execute_result"
    }
   ],
   "source": [
    "np.percentile(data,[50])"
   ]
  },
  {
   "cell_type": "code",
   "execution_count": 40,
   "id": "04bf813b-2a52-487d-bc51-adc87273b422",
   "metadata": {},
   "outputs": [
    {
     "data": {
      "text/plain": [
       "array([45.])"
      ]
     },
     "execution_count": 40,
     "metadata": {},
     "output_type": "execute_result"
    }
   ],
   "source": [
    "np.percentile(data,[75])"
   ]
  },
  {
   "cell_type": "code",
   "execution_count": 42,
   "id": "9217106d-4d60-4852-ac26-07867b3f765c",
   "metadata": {},
   "outputs": [
    {
     "data": {
      "text/plain": [
       "array([12., 28., 32., 45., 67.])"
      ]
     },
     "execution_count": 42,
     "metadata": {},
     "output_type": "execute_result"
    }
   ],
   "source": [
    "np.percentile(data,[0,25,50,75,100])"
   ]
  },
  {
   "cell_type": "markdown",
   "id": "6069296d-58c4-4831-bba0-306822ef947c",
   "metadata": {},
   "source": [
    "q1,q2,q3,q4\n",
    "\n",
    "IQR = q3 - q1\n",
    "\n",
    "lower_fence  = q1 - IQR*1.5\n",
    "\n",
    "upper_fence = q3 + IQR*1.5"
   ]
  },
  {
   "cell_type": "code",
   "execution_count": 45,
   "id": "3cdaba85-bb42-4aad-9c2e-f2f40230a305",
   "metadata": {},
   "outputs": [],
   "source": [
    "data_copy.append(150)"
   ]
  },
  {
   "cell_type": "code",
   "execution_count": 47,
   "id": "e13d773b-9ee5-419b-a517-70d2688e3b85",
   "metadata": {},
   "outputs": [
    {
     "data": {
      "text/plain": [
       "[12, 23, 24, 32, 32, 32, 43, 45, 45, 56, 150]"
      ]
     },
     "execution_count": 47,
     "metadata": {},
     "output_type": "execute_result"
    }
   ],
   "source": [
    "data_copy"
   ]
  },
  {
   "cell_type": "code",
   "execution_count": 49,
   "id": "a1cde1a6-e9fd-49b3-bae4-801bc6816f7e",
   "metadata": {},
   "outputs": [
    {
     "data": {
      "text/plain": [
       "<Axes: >"
      ]
     },
     "execution_count": 49,
     "metadata": {},
     "output_type": "execute_result"
    },
    {
     "data": {
      "image/png": "[encoded data removed]",
      "text/plain": [
       "<Figure size 640x480 with 1 Axes>"
      ]
     },
     "metadata": {},
     "output_type": "display_data"
    }
   ],
   "source": [
    "import seaborn as sns\n",
    "sns.boxplot(data_copy)"
   ]
  },
  {
   "cell_type": "code",
   "execution_count": 50,
   "id": "79f9b768-0dd4-427e-9f37-e6fa4da21429",
   "metadata": {},
   "outputs": [
    {
     "data": {
      "text/plain": [
       "[23, 24, 32, 45, 12, 43, 67, 45, 32, 56, 32]"
      ]
     },
     "execution_count": 50,
     "metadata": {},
     "output_type": "execute_result"
    }
   ],
   "source": [
    "data"
   ]
  },
  {
   "cell_type": "raw",
   "id": "f24fb43b-9f51-4bea-8c0b-58d9193784c9",
   "metadata": {},
   "source": [
    "find out atleast 5 techniques of the sampling and implement it with the help of python\n",
    "keep it over the github"
   ]
  },
  {
   "cell_type": "raw",
   "id": "48803acf-cb56-486f-a7cc-26fb3391a6a4",
   "metadata": {},
   "source": [
    "sample/population"
   ]
  },
  {
   "cell_type": "code",
   "execution_count": 51,
   "id": "d2463d66-61ad-49b2-8052-1d87a0cee827",
   "metadata": {},
   "outputs": [
    {
     "data": {
      "text/plain": [
       "array([32, 32, 56])"
      ]
     },
     "execution_count": 51,
     "metadata": {},
     "output_type": "execute_result"
    }
   ],
   "source": [
    "np.random.choice(data,size=3)"
   ]
  },
  {
   "cell_type": "code",
   "execution_count": null,
   "id": "d4d0ad68-8a20-4079-96ba-c4e5dec7ef1a",
   "metadata": {},
   "outputs": [],
   "source": [
    "data2.sample(n=15)"
   ]
  },
  {
   "cell_type": "code",
   "execution_count": 53,
   "id": "74d0424e-41c7-4ca6-b7ad-af7ded291560",
   "metadata": {},
   "outputs": [
    {
     "data": {
      "text/plain": [
       "[23, 24, 32, 45, 12, 43, 67, 45, 32, 56, 32]"
      ]
     },
     "execution_count": 53,
     "metadata": {},
     "output_type": "execute_result"
    }
   ],
   "source": [
    "data"
   ]
  },
  {
   "cell_type": "code",
   "execution_count": 60,
   "id": "d7b5299d-0721-41ed-afb1-56dd4ba1bbc1",
   "metadata": {},
   "outputs": [
    {
     "data": {
      "text/plain": [
       "11"
      ]
     },
     "execution_count": 60,
     "metadata": {},
     "output_type": "execute_result"
    }
   ],
   "source": [
    "len(data)"
   ]
  },
  {
   "cell_type": "code",
   "execution_count": 62,
   "id": "2581ee63-cf33-44ea-83ad-6e51db7abf61",
   "metadata": {},
   "outputs": [
    {
     "data": {
      "text/plain": [
       "10"
      ]
     },
     "execution_count": 62,
     "metadata": {},
     "output_type": "execute_result"
    }
   ],
   "source": [
    "len(data) - 1"
   ]
  },
  {
   "cell_type": "raw",
   "id": "90626ee2-6186-43fc-af96-55ca37624159",
   "metadata": {},
   "source": [
    "n - 1"
   ]
  },
  {
   "cell_type": "code",
   "execution_count": 64,
   "id": "bbd336e2-1403-4a87-8855-5376e2a4ace4",
   "metadata": {},
   "outputs": [],
   "source": [
    "#python code for variance \n",
    "\n",
    "def variance(data):\n",
    "    n = len(data)\n",
    "    #mean of the data\n",
    "    mean = sum(data)/n\n",
    "    ## variance\n",
    "    deviation = [ (x - mean) ** 2 for x in data] \n",
    "    variance = sum (deviation) / (n - 1)\n",
    "    return variance"
   ]
  },
  {
   "cell_type": "code",
   "execution_count": 66,
   "id": "610b9609-b985-48cb-b865-df828d7fb3ae",
   "metadata": {},
   "outputs": [
    {
     "data": {
      "text/plain": [
       "248.85454545454544"
      ]
     },
     "execution_count": 66,
     "metadata": {},
     "output_type": "execute_result"
    }
   ],
   "source": [
    "variance(data)"
   ]
  },
  {
   "cell_type": "code",
   "execution_count": 68,
   "id": "3ccbdf11-3e65-40e3-9cab-34999e86c64f",
   "metadata": {},
   "outputs": [
    {
     "data": {
      "text/plain": [
       "226.23140495867773"
      ]
     },
     "execution_count": 68,
     "metadata": {},
     "output_type": "execute_result"
    }
   ],
   "source": [
    "import numpy as np\n",
    "np.var(data)"
   ]
  },
  {
   "cell_type": "code",
   "execution_count": 70,
   "id": "c70a67cd-5a15-4e0c-87d0-5e6b1c335fa3",
   "metadata": {},
   "outputs": [
    {
     "data": {
      "text/plain": [
       "15.040990823701666"
      ]
     },
     "execution_count": 70,
     "metadata": {},
     "output_type": "execute_result"
    }
   ],
   "source": [
    "np.std(data)"
   ]
  },
  {
   "cell_type": "code",
   "execution_count": 72,
   "id": "b86841cd-0824-4250-950c-a018b9d8acca",
   "metadata": {},
   "outputs": [
    {
     "data": {
      "text/plain": [
       "248.85454545454544"
      ]
     },
     "execution_count": 72,
     "metadata": {},
     "output_type": "execute_result"
    }
   ],
   "source": [
    "import statistics \n",
    "statistics.variance(data)"
   ]
  },
  {
   "cell_type": "raw",
   "id": "9efbe0e5-f123-42a9-996f-54dba82468c7",
   "metadata": {},
   "source": [
    "The important difference in how NumPy and the statistics module handle variance calculations in Python:\n",
    "\n",
    "NumPy's numpy.var(): By default, calculates the population variance. This means it assumes your data represents the entire population you're interested in, not just a sample. It divides the sum of squared deviations by the total number of data points (N).\n",
    "\n",
    "statistics.variance(): Calculates the sample variance. This is used when your data is a sample taken from a larger population. It divides the sum of squared deviations by (N-1), where N is the number of data points in your sample. This is known as Bessel's correction and provides an unbiased estimate of the population variance.\n",
    "\n",
    "Why the difference?\n",
    "\n",
    "When you're working with a sample, using N in the denominator tends to underestimate the true population variance. Dividing by (N-1) corrects for this bias.\n",
    "\n",
    "How to choose the right function:\n",
    "\n",
    "If your data represents the entire population, use numpy.var() (or statistics.pvariance() which also calculates population variance).\n",
    "If your data is a sample from a larger population, use statistics.variance()."
   ]
  },
  {
   "cell_type": "code",
   "execution_count": 74,
   "id": "ec38e244-7ccc-4ef5-b78a-b4350a44429e",
   "metadata": {},
   "outputs": [
    {
     "name": "stdout",
     "output_type": "stream",
     "text": [
      "Population Variance (NumPy): 2.0\n",
      "Sample Variance (NumPy): 2.5\n",
      "Sample Variance (statistics): 2.5\n"
     ]
    }
   ],
   "source": [
    "import numpy as np\n",
    "\n",
    "data1 = [1, 2, 3, 4, 5]\n",
    "\n",
    "# Population variance (NumPy default)\n",
    "population_variance = np.var(data1)\n",
    "\n",
    "# Sample variance (NumPy with ddof=1)\n",
    "sample_variance = np.var(data1, ddof=1)\n",
    "\n",
    "# Sample variance (statistics module)\n",
    "sample_variance_stats = statistics.variance(data1)\n",
    "\n",
    "print(f\"Population Variance (NumPy): {population_variance}\")\n",
    "print(f\"Sample Variance (NumPy): {sample_variance}\")\n",
    "print(f\"Sample Variance (statistics): {sample_variance_stats}\")"
   ]
  },
  {
   "cell_type": "code",
   "execution_count": 76,
   "id": "fcf9b18f-9312-4804-8dfc-2839f0a5391d",
   "metadata": {},
   "outputs": [
    {
     "data": {
      "text/plain": [
       "226.23140495867767"
      ]
     },
     "execution_count": 76,
     "metadata": {},
     "output_type": "execute_result"
    }
   ],
   "source": [
    "statistics.pvariance(data)"
   ]
  },
  {
   "cell_type": "code",
   "execution_count": 78,
   "id": "f1b51f50-224a-4d41-b9ef-df804fbf887c",
   "metadata": {},
   "outputs": [
    {
     "data": {
      "text/plain": [
       "15.775124261144361"
      ]
     },
     "execution_count": 78,
     "metadata": {},
     "output_type": "execute_result"
    }
   ],
   "source": [
    "import math \n",
    "math.sqrt(statistics.variance(data))"
   ]
  },
  {
   "cell_type": "code",
   "execution_count": 80,
   "id": "eba339b9-bfa6-4989-8a67-f7c97706b62b",
   "metadata": {},
   "outputs": [],
   "source": [
    "import seaborn as sns\n",
    "df = sns.load_dataset('tips')"
   ]
  },
  {
   "cell_type": "code",
   "execution_count": 82,
   "id": "15af220f-b49f-43db-b5a4-7b991df820d8",
   "metadata": {},
   "outputs": [
    {
     "data": {
      "text/html": [
       "<div>\n",
       "<style scoped>\n",
       "    .dataframe tbody tr th:only-of-type {\n",
       "        vertical-align: middle;\n",
       "    }\n",
       "\n",
       "    .dataframe tbody tr th {\n",
       "        vertical-align: top;\n",
       "    }\n",
       "\n",
       "    .dataframe thead th {\n",
       "        text-align: right;\n",
       "    }\n",
       "</style>\n",
       "<table border=\"1\" class=\"dataframe\">\n",
       "  <thead>\n",
       "    <tr style=\"text-align: right;\">\n",
       "      <th></th>\n",
       "      <th>total_bill</th>\n",
       "      <th>tip</th>\n",
       "      <th>sex</th>\n",
       "      <th>smoker</th>\n",
       "      <th>day</th>\n",
       "      <th>time</th>\n",
       "      <th>size</th>\n",
       "    </tr>\n",
       "  </thead>\n",
       "  <tbody>\n",
       "    <tr>\n",
       "      <th>0</th>\n",
       "      <td>16.99</td>\n",
       "      <td>1.01</td>\n",
       "      <td>Female</td>\n",
       "      <td>No</td>\n",
       "      <td>Sun</td>\n",
       "      <td>Dinner</td>\n",
       "      <td>2</td>\n",
       "    </tr>\n",
       "    <tr>\n",
       "      <th>1</th>\n",
       "      <td>10.34</td>\n",
       "      <td>1.66</td>\n",
       "      <td>Male</td>\n",
       "      <td>No</td>\n",
       "      <td>Sun</td>\n",
       "      <td>Dinner</td>\n",
       "      <td>3</td>\n",
       "    </tr>\n",
       "    <tr>\n",
       "      <th>2</th>\n",
       "      <td>21.01</td>\n",
       "      <td>3.50</td>\n",
       "      <td>Male</td>\n",
       "      <td>No</td>\n",
       "      <td>Sun</td>\n",
       "      <td>Dinner</td>\n",
       "      <td>3</td>\n",
       "    </tr>\n",
       "    <tr>\n",
       "      <th>3</th>\n",
       "      <td>23.68</td>\n",
       "      <td>3.31</td>\n",
       "      <td>Male</td>\n",
       "      <td>No</td>\n",
       "      <td>Sun</td>\n",
       "      <td>Dinner</td>\n",
       "      <td>2</td>\n",
       "    </tr>\n",
       "    <tr>\n",
       "      <th>4</th>\n",
       "      <td>24.59</td>\n",
       "      <td>3.61</td>\n",
       "      <td>Female</td>\n",
       "      <td>No</td>\n",
       "      <td>Sun</td>\n",
       "      <td>Dinner</td>\n",
       "      <td>4</td>\n",
       "    </tr>\n",
       "  </tbody>\n",
       "</table>\n",
       "</div>"
      ],
      "text/plain": [
       "   total_bill   tip     sex smoker  day    time  size\n",
       "0       16.99  1.01  Female     No  Sun  Dinner     2\n",
       "1       10.34  1.66    Male     No  Sun  Dinner     3\n",
       "2       21.01  3.50    Male     No  Sun  Dinner     3\n",
       "3       23.68  3.31    Male     No  Sun  Dinner     2\n",
       "4       24.59  3.61  Female     No  Sun  Dinner     4"
      ]
     },
     "execution_count": 82,
     "metadata": {},
     "output_type": "execute_result"
    }
   ],
   "source": [
    "df.head()"
   ]
  },
  {
   "cell_type": "code",
   "execution_count": 84,
   "id": "41608a0d-2c3c-4113-be1e-a24dff51b468",
   "metadata": {},
   "outputs": [
    {
     "name": "stdout",
     "output_type": "stream",
     "text": [
      "<class 'pandas.core.frame.DataFrame'>\n",
      "RangeIndex: 244 entries, 0 to 243\n",
      "Data columns (total 7 columns):\n",
      " #   Column      Non-Null Count  Dtype   \n",
      "---  ------      --------------  -----   \n",
      " 0   total_bill  244 non-null    float64 \n",
      " 1   tip         244 non-null    float64 \n",
      " 2   sex         244 non-null    category\n",
      " 3   smoker      244 non-null    category\n",
      " 4   day         244 non-null    category\n",
      " 5   time        244 non-null    category\n",
      " 6   size        244 non-null    int64   \n",
      "dtypes: category(4), float64(2), int64(1)\n",
      "memory usage: 7.4 KB\n"
     ]
    }
   ],
   "source": [
    "df.info()"
   ]
  },
  {
   "cell_type": "code",
   "execution_count": 88,
   "id": "134f6575-4a01-41c0-ac41-5bad670c0f02",
   "metadata": {},
   "outputs": [
    {
     "data": {
      "text/html": [
       "<div>\n",
       "<style scoped>\n",
       "    .dataframe tbody tr th:only-of-type {\n",
       "        vertical-align: middle;\n",
       "    }\n",
       "\n",
       "    .dataframe tbody tr th {\n",
       "        vertical-align: top;\n",
       "    }\n",
       "\n",
       "    .dataframe thead th {\n",
       "        text-align: right;\n",
       "    }\n",
       "</style>\n",
       "<table border=\"1\" class=\"dataframe\">\n",
       "  <thead>\n",
       "    <tr style=\"text-align: right;\">\n",
       "      <th></th>\n",
       "      <th>total_bill</th>\n",
       "      <th>tip</th>\n",
       "      <th>size</th>\n",
       "    </tr>\n",
       "  </thead>\n",
       "  <tbody>\n",
       "    <tr>\n",
       "      <th>total_bill</th>\n",
       "      <td>1.000000</td>\n",
       "      <td>0.675734</td>\n",
       "      <td>0.598315</td>\n",
       "    </tr>\n",
       "    <tr>\n",
       "      <th>tip</th>\n",
       "      <td>0.675734</td>\n",
       "      <td>1.000000</td>\n",
       "      <td>0.489299</td>\n",
       "    </tr>\n",
       "    <tr>\n",
       "      <th>size</th>\n",
       "      <td>0.598315</td>\n",
       "      <td>0.489299</td>\n",
       "      <td>1.000000</td>\n",
       "    </tr>\n",
       "  </tbody>\n",
       "</table>\n",
       "</div>"
      ],
      "text/plain": [
       "            total_bill       tip      size\n",
       "total_bill    1.000000  0.675734  0.598315\n",
       "tip           0.675734  1.000000  0.489299\n",
       "size          0.598315  0.489299  1.000000"
      ]
     },
     "execution_count": 88,
     "metadata": {},
     "output_type": "execute_result"
    }
   ],
   "source": [
    "#df.corr()\n",
    "df[['total_bill', 'tip', 'size']].corr()"
   ]
  },
  {
   "cell_type": "code",
   "execution_count": 90,
   "id": "967fcbf8-1fa8-4ae7-b7ae-028d51979bc9",
   "metadata": {},
   "outputs": [
    {
     "data": {
      "text/plain": [
       "total_bill    0\n",
       "tip           0\n",
       "sex           0\n",
       "smoker        0\n",
       "day           0\n",
       "time          0\n",
       "size          0\n",
       "dtype: int64"
      ]
     },
     "execution_count": 90,
     "metadata": {},
     "output_type": "execute_result"
    }
   ],
   "source": [
    "df.isnull().sum()"
   ]
  },
  {
   "cell_type": "code",
   "execution_count": 92,
   "id": "0f8d57be-729a-40f7-bc7b-943472ec51f0",
   "metadata": {},
   "outputs": [
    {
     "data": {
      "text/plain": [
       "<Axes: xlabel='tip', ylabel='size'>"
      ]
     },
     "execution_count": 92,
     "metadata": {},
     "output_type": "execute_result"
    },
    {
     "data": {
      "image/png": "[encoded data removed]",
      "text/plain": [
       "<Figure size 640x480 with 1 Axes>"
      ]
     },
     "metadata": {},
     "output_type": "display_data"
    }
   ],
   "source": [
    "sns.scatterplot(x = df['tip'],y = df['size'])"
   ]
  },
  {
   "cell_type": "code",
   "execution_count": 94,
   "id": "b1015fcf-4d1a-4826-aa2c-3394198dd581",
   "metadata": {},
   "outputs": [
    {
     "data": {
      "text/plain": [
       "<Axes: xlabel='tip', ylabel='total_bill'>"
      ]
     },
     "execution_count": 94,
     "metadata": {},
     "output_type": "execute_result"
    },
    {
     "data": {
      "image/png": "[encoded data removed]",
      "text/plain": [
       "<Figure size 640x480 with 1 Axes>"
      ]
     },
     "metadata": {},
     "output_type": "display_data"
    }
   ],
   "source": [
    "sns.scatterplot(x = df['tip'],y = df['total_bill'])"
   ]
  },
  {
   "cell_type": "code",
   "execution_count": 98,
   "id": "dc81f13a-7c0f-4cc3-8b83-4d0d62965770",
   "metadata": {},
   "outputs": [
    {
     "data": {
      "text/html": [
       "<div>\n",
       "<style scoped>\n",
       "    .dataframe tbody tr th:only-of-type {\n",
       "        vertical-align: middle;\n",
       "    }\n",
       "\n",
       "    .dataframe tbody tr th {\n",
       "        vertical-align: top;\n",
       "    }\n",
       "\n",
       "    .dataframe thead th {\n",
       "        text-align: right;\n",
       "    }\n",
       "</style>\n",
       "<table border=\"1\" class=\"dataframe\">\n",
       "  <thead>\n",
       "    <tr style=\"text-align: right;\">\n",
       "      <th></th>\n",
       "      <th>total_bill</th>\n",
       "      <th>tip</th>\n",
       "      <th>size</th>\n",
       "    </tr>\n",
       "  </thead>\n",
       "  <tbody>\n",
       "    <tr>\n",
       "      <th>total_bill</th>\n",
       "      <td>79.252939</td>\n",
       "      <td>8.323502</td>\n",
       "      <td>5.065983</td>\n",
       "    </tr>\n",
       "    <tr>\n",
       "      <th>tip</th>\n",
       "      <td>8.323502</td>\n",
       "      <td>1.914455</td>\n",
       "      <td>0.643906</td>\n",
       "    </tr>\n",
       "    <tr>\n",
       "      <th>size</th>\n",
       "      <td>5.065983</td>\n",
       "      <td>0.643906</td>\n",
       "      <td>0.904591</td>\n",
       "    </tr>\n",
       "  </tbody>\n",
       "</table>\n",
       "</div>"
      ],
      "text/plain": [
       "            total_bill       tip      size\n",
       "total_bill   79.252939  8.323502  5.065983\n",
       "tip           8.323502  1.914455  0.643906\n",
       "size          5.065983  0.643906  0.904591"
      ]
     },
     "execution_count": 98,
     "metadata": {},
     "output_type": "execute_result"
    }
   ],
   "source": [
    "#df.cov()\n",
    "df[['total_bill', 'tip', 'size']].cov()"
   ]
  },
  {
   "cell_type": "raw",
   "id": "7c9e43a0-40d6-4eb1-a64c-13a2f69d9f40",
   "metadata": {},
   "source": [
    "corr/cov"
   ]
  },
  {
   "cell_type": "raw",
   "id": "b02726d2-e42b-418c-8b4d-ad9f6132b3fd",
   "metadata": {},
   "source": [
    "pdf"
   ]
  },
  {
   "cell_type": "code",
   "execution_count": 104,
   "id": "40c7b217-e4e4-4bc5-a697-586c2f9caa8c",
   "metadata": {},
   "outputs": [
    {
     "data": {
      "text/plain": [
       "[23, 24, 32, 45, 12, 43, 67, 45, 32, 56, 32]"
      ]
     },
     "execution_count": 104,
     "metadata": {},
     "output_type": "execute_result"
    }
   ],
   "source": [
    "data"
   ]
  },
  {
   "cell_type": "code",
   "execution_count": 106,
   "id": "55e1c15c-4741-4bca-bbf6-c18fefad4289",
   "metadata": {},
   "outputs": [
    {
     "data": {
      "text/plain": [
       "<Axes: ylabel='Count'>"
      ]
     },
     "execution_count": 106,
     "metadata": {},
     "output_type": "execute_result"
    },
    {
     "data": {
      "image/png": "[encoded data removed]",
      "text/plain": [
       "<Figure size 640x480 with 1 Axes>"
      ]
     },
     "metadata": {},
     "output_type": "display_data"
    }
   ],
   "source": [
    "import seaborn as sns\n",
    "sns.histplot(data)"
   ]
  },
  {
   "cell_type": "code",
   "execution_count": 108,
   "id": "0aeaa86e-cf4b-44bf-9b84-99404268f043",
   "metadata": {},
   "outputs": [],
   "source": [
    "import numpy as np \n",
    "from statistics import mode"
   ]
  },
  {
   "cell_type": "code",
   "execution_count": 110,
   "id": "e9816512-993d-47ce-9846-7a59317a67bd",
   "metadata": {},
   "outputs": [],
   "source": [
    "population = np.random.randint(10,20,50)"
   ]
  },
  {
   "cell_type": "code",
   "execution_count": 112,
   "id": "87d9b0aa-666c-4acd-9935-96db7cdfbed0",
   "metadata": {},
   "outputs": [
    {
     "data": {
      "text/plain": [
       "array([10, 19, 11, 14, 18, 16, 13, 15, 16, 10, 19, 10, 12, 16, 17, 14, 10,\n",
       "       10, 17, 19, 17, 18, 17, 18, 16, 16, 19, 12, 16, 18, 18, 16, 17, 18,\n",
       "       19, 10, 12, 10, 15, 11, 17, 16, 19, 13, 14, 10, 16, 18, 11, 14])"
      ]
     },
     "execution_count": 112,
     "metadata": {},
     "output_type": "execute_result"
    }
   ],
   "source": [
    "population"
   ]
  },
  {
   "cell_type": "code",
   "execution_count": 114,
   "id": "0d19c209-480f-4942-b5c4-048485f9c905",
   "metadata": {},
   "outputs": [
    {
     "data": {
      "text/plain": [
       "14.94"
      ]
     },
     "execution_count": 114,
     "metadata": {},
     "output_type": "execute_result"
    }
   ],
   "source": [
    "np.mean(population)"
   ]
  },
  {
   "cell_type": "code",
   "execution_count": 118,
   "id": "46d7ba52-f100-47e8-867d-1638d03ce3f0",
   "metadata": {},
   "outputs": [
    {
     "data": {
      "text/plain": [
       "16.0"
      ]
     },
     "execution_count": 118,
     "metadata": {},
     "output_type": "execute_result"
    }
   ],
   "source": [
    "np.median(population)"
   ]
  },
  {
   "cell_type": "code",
   "execution_count": 120,
   "id": "71dd3b68-6a9c-45ea-9e21-b38a4a218446",
   "metadata": {},
   "outputs": [
    {
     "data": {
      "text/plain": [
       "16"
      ]
     },
     "execution_count": 120,
     "metadata": {},
     "output_type": "execute_result"
    }
   ],
   "source": [
    "mode(population)"
   ]
  },
  {
   "cell_type": "code",
   "execution_count": 122,
   "id": "10812e67-5ff7-4610-b250-d3f82ac13201",
   "metadata": {},
   "outputs": [
    {
     "name": "stdout",
     "output_type": "stream",
     "text": [
      "mean of the population 14.94\n",
      "median of the population 16.0\n",
      "mode of the population 16\n"
     ]
    }
   ],
   "source": [
    "print(f\"mean of the population {np.mean(population)}\")\n",
    "print(f\"median of the population {np.median(population)}\")\n",
    "print(f\"mode of the population {mode(population)}\")"
   ]
  },
  {
   "cell_type": "code",
   "execution_count": 124,
   "id": "98ff440e-01ec-4544-a848-1384a00329e3",
   "metadata": {},
   "outputs": [],
   "source": [
    "sample = np.random.choice(population,20)"
   ]
  },
  {
   "cell_type": "code",
   "execution_count": 126,
   "id": "26568960-9211-4d35-986d-632ecf7d6573",
   "metadata": {},
   "outputs": [
    {
     "name": "stdout",
     "output_type": "stream",
     "text": [
      "mean of the sample 16.0\n",
      "median of the sample 16.0\n",
      "mode of the sample 19\n"
     ]
    }
   ],
   "source": [
    "print(f\"mean of the sample {np.mean(sample)}\")\n",
    "print(f\"median of the sample {np.median(sample)}\")\n",
    "print(f\"mode of the sample {mode(sample)}\")"
   ]
  },
  {
   "cell_type": "code",
   "execution_count": 128,
   "id": "9740330c-1035-4766-bd47-d52143b3277b",
   "metadata": {},
   "outputs": [],
   "source": [
    "sample1=np.random.choice(population,20)\n",
    "sample2=np.random.choice(population,20)\n",
    "sample3=np.random.choice(population,20)\n",
    "sample4=np.random.choice(population,20)"
   ]
  },
  {
   "cell_type": "code",
   "execution_count": 130,
   "id": "d93f3bbf-9ad2-4297-9e83-29b75891377a",
   "metadata": {},
   "outputs": [
    {
     "name": "stdout",
     "output_type": "stream",
     "text": [
      "[16 10 18 16 17 19 19 16 10 17 18 10 11 14 14 10 17 14 19 17]\n",
      "============================================================\n",
      "[10 16 16 19 19 14 19 16 15 17 16 19 17 16 17 12 18 17 19 14]\n",
      "============================================================\n",
      "[18 17 19 10 11 17 18 16 12 18 17 18 12 17 19 18 13 17 16 18]\n",
      "============================================================\n",
      "[18 10 17 18 19 16 16 19 19 10 16 11 17 18 10 16 17 19 15 10]\n"
     ]
    }
   ],
   "source": [
    "print(sample1)\n",
    "print(60*\"=\")\n",
    "print(sample2)\n",
    "print(60*\"=\")\n",
    "print(sample3)\n",
    "print(60*\"=\")\n",
    "print(sample4)"
   ]
  },
  {
   "cell_type": "code",
   "execution_count": 132,
   "id": "7b2cc100-c5a8-4bcc-b5fe-4662dce25411",
   "metadata": {},
   "outputs": [],
   "source": [
    "mean_of_samples=[]\n",
    "\n",
    "all_sample=[sample1,sample2,sample3,sample4]\n",
    "\n",
    "for sample in all_sample:\n",
    "    mean_of_samples.append(np.mean(sample))"
   ]
  },
  {
   "cell_type": "code",
   "execution_count": 134,
   "id": "68502e46-de97-4ae5-8811-4aa1bc437eec",
   "metadata": {},
   "outputs": [
    {
     "data": {
      "text/plain": [
       "[15.1, 16.3, 16.05, 15.55]"
      ]
     },
     "execution_count": 134,
     "metadata": {},
     "output_type": "execute_result"
    }
   ],
   "source": [
    "mean_of_samples"
   ]
  },
  {
   "cell_type": "markdown",
   "id": "363acc9e-eae1-4c0d-a452-0b36cb5119ef",
   "metadata": {},
   "source": [
    "# central limit theorem"
   ]
  },
  {
   "cell_type": "code",
   "execution_count": 147,
   "id": "36ce4422-0324-464c-83d6-8e4584a1193d",
   "metadata": {},
   "outputs": [],
   "source": [
    "population = np.random.binomial(10,.5,10000)"
   ]
  },
  {
   "cell_type": "code",
   "execution_count": 149,
   "id": "a3e18903-f9c1-440c-8da4-75b1c2904a94",
   "metadata": {},
   "outputs": [
    {
     "name": "stdout",
     "output_type": "stream",
     "text": [
      "[5 2 7 ... 3 7 4]\n"
     ]
    }
   ],
   "source": [
    "print(population)"
   ]
  },
  {
   "cell_type": "code",
   "execution_count": 151,
   "id": "b45509b7-a43f-4790-9543-d10df39e3d4f",
   "metadata": {},
   "outputs": [
    {
     "data": {
      "text/plain": [
       "10000"
      ]
     },
     "execution_count": 151,
     "metadata": {},
     "output_type": "execute_result"
    }
   ],
   "source": [
    "len(population)"
   ]
  },
  {
   "cell_type": "code",
   "execution_count": 155,
   "id": "2331113c-87fc-4387-9de0-733be451752d",
   "metadata": {},
   "outputs": [
    {
     "data": {
      "text/plain": [
       "<seaborn.axisgrid.FacetGrid at 0x1c6381236b0>"
      ]
     },
     "execution_count": 155,
     "metadata": {},
     "output_type": "execute_result"
    },
    {
     "data": {
      "image/png": "[encoded data removed]",
      "text/plain": [
       "<Figure size 500x500 with 1 Axes>"
      ]
     },
     "metadata": {},
     "output_type": "display_data"
    }
   ],
   "source": [
    "import seaborn as sns\n",
    "sns.displot(population, kde=True)  # kde=True adds the kernel density estimate"
   ]
  },
  {
   "cell_type": "code",
   "execution_count": 157,
   "id": "b81efba8-f380-4dec-a2e8-2237f510b768",
   "metadata": {},
   "outputs": [
    {
     "data": {
      "text/plain": [
       "10000"
      ]
     },
     "execution_count": 157,
     "metadata": {},
     "output_type": "execute_result"
    }
   ],
   "source": [
    "len(population)"
   ]
  },
  {
   "cell_type": "code",
   "execution_count": 159,
   "id": "17f52b1a-4573-4c5c-958a-5b3bfadebdf1",
   "metadata": {},
   "outputs": [
    {
     "data": {
      "text/plain": [
       "3000"
      ]
     },
     "execution_count": 159,
     "metadata": {},
     "output_type": "execute_result"
    }
   ],
   "source": [
    "int(len(population)*.30)"
   ]
  },
  {
   "cell_type": "code",
   "execution_count": 161,
   "id": "11b1cba9-e169-4105-a07e-23e60648e052",
   "metadata": {},
   "outputs": [],
   "source": [
    "size = int(len(population)*.30)"
   ]
  },
  {
   "cell_type": "code",
   "execution_count": 163,
   "id": "256de10b-5cc7-40b2-8253-ac637fae948e",
   "metadata": {},
   "outputs": [],
   "source": [
    "sample_mean=[]\n",
    "for i in range(1,31):\n",
    "    sample=np.random.choice(population,size=size)\n",
    "    sample_mean.append(np.mean(sample))"
   ]
  },
  {
   "cell_type": "code",
   "execution_count": 165,
   "id": "08ff57a3-a5c0-4623-8692-1fe774660fb2",
   "metadata": {},
   "outputs": [
    {
     "data": {
      "text/plain": [
       "[5.054,\n",
       " 4.996333333333333,\n",
       " 4.959666666666666,\n",
       " 5.002666666666666,\n",
       " 5.003666666666667,\n",
       " 4.950333333333333,\n",
       " 4.972,\n",
       " 5.043333333333333,\n",
       " 4.97,\n",
       " 4.985333333333333,\n",
       " 5.025,\n",
       " 4.977,\n",
       " 5.068,\n",
       " 4.984,\n",
       " 5.000333333333334,\n",
       " 5.019,\n",
       " 5.005,\n",
       " 4.961666666666667,\n",
       " 4.992,\n",
       " 5.011666666666667,\n",
       " 4.98,\n",
       " 4.9863333333333335,\n",
       " 5.006666666666667,\n",
       " 4.989333333333334,\n",
       " 5.009,\n",
       " 4.966,\n",
       " 4.937,\n",
       " 4.974,\n",
       " 5.028,\n",
       " 5.001333333333333]"
      ]
     },
     "execution_count": 165,
     "metadata": {},
     "output_type": "execute_result"
    }
   ],
   "source": [
    "sample_mean"
   ]
  },
  {
   "cell_type": "code",
   "execution_count": 173,
   "id": "80be99af-fbaa-4386-80cc-0e6fff19cd55",
   "metadata": {},
   "outputs": [
    {
     "data": {
      "image/png": "[encoded data removed]",
      "text/plain": [
       "<Figure size 500x500 with 1 Axes>"
      ]
     },
     "metadata": {},
     "output_type": "display_data"
    }
   ],
   "source": [
    "import matplotlib.pyplot as plt\n",
    "sns.displot(sample_mean, kde=True)  # Or sns.histplot(sample_mean, kde=True)\n",
    "plt.show()  # This is needed to display the plot"
   ]
  },
  {
   "cell_type": "code",
   "execution_count": 175,
   "id": "82eedcab-bdf5-497a-a3f0-7f0cd350f0c8",
   "metadata": {},
   "outputs": [],
   "source": [
    "sample_mean=[]\n",
    "for i in range(1,100):\n",
    "    sample=np.random.choice(population,size=size)\n",
    "    sample_mean.append(np.mean(sample))"
   ]
  },
  {
   "cell_type": "code",
   "execution_count": 177,
   "id": "d2369b49-5865-4b87-9dc9-490ed5add971",
   "metadata": {},
   "outputs": [
    {
     "data": {
      "image/png": "[encoded data removed]",
      "text/plain": [
       "<Figure size 500x500 with 1 Axes>"
      ]
     },
     "metadata": {},
     "output_type": "display_data"
    }
   ],
   "source": [
    "sns.displot(sample_mean, kde=True)  # Or sns.histplot(sample_mean, kde=True)\n",
    "plt.show()  # This is needed to display the plot"
   ]
  },
  {
   "cell_type": "code",
   "execution_count": 179,
   "id": "7cbc74e1-7b4c-4774-bd13-e91cb14104de",
   "metadata": {},
   "outputs": [],
   "source": [
    "sample_mean=[]\n",
    "for i in range(1,501):\n",
    "    sample=np.random.choice(population,size=size)\n",
    "    sample_mean.append(np.mean(sample))"
   ]
  },
  {
   "cell_type": "code",
   "execution_count": 181,
   "id": "af0d7028-1def-41e3-956f-d0c2d2cccfc1",
   "metadata": {},
   "outputs": [
    {
     "data": {
      "image/png": "[encoded data removed]",
      "text/plain": [
       "<Figure size 500x500 with 1 Axes>"
      ]
     },
     "metadata": {},
     "output_type": "display_data"
    }
   ],
   "source": [
    "sns.displot(sample_mean, kde=True,color=\"red\") \n",
    "plt.show()"
   ]
  },
  {
   "cell_type": "code",
   "execution_count": 183,
   "id": "5478341d-cfaf-4ba3-bf6b-b03f8769b860",
   "metadata": {},
   "outputs": [],
   "source": [
    "sample_mean=[]\n",
    "for i in range(1,1000):\n",
    "    sample=np.random.choice(population,size=size)\n",
    "    sample_mean.append(np.mean(sample))"
   ]
  },
  {
   "cell_type": "code",
   "execution_count": 185,
   "id": "de47f79d-1139-405c-8a27-29471f738230",
   "metadata": {},
   "outputs": [
    {
     "data": {
      "image/png": "[encoded data removed]",
      "text/plain": [
       "<Figure size 500x500 with 1 Axes>"
      ]
     },
     "metadata": {},
     "output_type": "display_data"
    }
   ],
   "source": [
    "sns.displot(sample_mean, kde=True) \n",
    "plt.show()"
   ]
  },
  {
   "cell_type": "code",
   "execution_count": 187,
   "id": "208bb679-2c72-46be-9e4a-f49b8f071997",
   "metadata": {},
   "outputs": [
    {
     "data": {
      "text/plain": [
       "4.997554888221555"
      ]
     },
     "execution_count": 187,
     "metadata": {},
     "output_type": "execute_result"
    }
   ],
   "source": [
    "np.mean(sample_mean)"
   ]
  },
  {
   "cell_type": "markdown",
   "id": "cd5b3fed-a913-4f82-9b63-ac77256a58b9",
   "metadata": {},
   "source": [
    "# confidence interval and margin of error"
   ]
  },
  {
   "cell_type": "code",
   "execution_count": 192,
   "id": "38162955-1d40-42bb-965e-1c6e90f0c250",
   "metadata": {},
   "outputs": [],
   "source": [
    "population = np.random.randint(10,20,50)"
   ]
  },
  {
   "cell_type": "code",
   "execution_count": 194,
   "id": "f92d0e03-858f-4240-84a4-df63927c83c4",
   "metadata": {},
   "outputs": [
    {
     "data": {
      "text/plain": [
       "array([17, 15, 13, 15, 18, 14, 15, 17, 14, 10, 15, 19, 15, 18, 14, 15, 11,\n",
       "       15, 10, 17, 15, 14, 17, 18, 11, 18, 14, 15, 17, 14, 17, 18, 17, 18,\n",
       "       15, 19, 13, 14, 15, 10, 17, 16, 11, 12, 18, 11, 13, 13, 15, 14])"
      ]
     },
     "execution_count": 194,
     "metadata": {},
     "output_type": "execute_result"
    }
   ],
   "source": [
    "population"
   ]
  },
  {
   "cell_type": "code",
   "execution_count": 196,
   "id": "57e94a93-8622-4e2d-badb-a4dae6e448a7",
   "metadata": {},
   "outputs": [],
   "source": [
    "sample1=np.random.choice(population,20)\n",
    "sample2=np.random.choice(population,20)\n",
    "sample3=np.random.choice(population,20)\n",
    "sample4=np.random.choice(population,20)"
   ]
  },
  {
   "cell_type": "code",
   "execution_count": 198,
   "id": "df0026a8-80bc-43f7-95cd-c4fe5286e167",
   "metadata": {},
   "outputs": [],
   "source": [
    "mean_of_samples=[]\n",
    "\n",
    "all_sample=[sample1,sample2,sample3,sample4]\n",
    "\n",
    "for sample in all_sample:\n",
    "    mean_of_samples.append(np.mean(sample))"
   ]
  },
  {
   "cell_type": "code",
   "execution_count": 200,
   "id": "cf1837bb-6613-4594-90b6-765423f26de8",
   "metadata": {},
   "outputs": [],
   "source": [
    "import scipy.stats as stats"
   ]
  },
  {
   "cell_type": "code",
   "execution_count": 204,
   "id": "63ec4bb8-6d68-4877-8c3f-4350112687d5",
   "metadata": {},
   "outputs": [
    {
     "name": "stdout",
     "output_type": "stream",
     "text": [
      "1.6448536269514722\n",
      "1.959963984540054\n",
      "2.3263478740408408\n"
     ]
    }
   ],
   "source": [
    "print(stats.norm.ppf(q=0.95))\n",
    "print(stats.norm.ppf(q=0.975))\n",
    "print(stats.norm.ppf(q=0.99))"
   ]
  },
  {
   "cell_type": "code",
   "execution_count": 206,
   "id": "abd15dbc-baad-4528-9696-dfb344d11250",
   "metadata": {},
   "outputs": [],
   "source": [
    "z_critical = stats.norm.ppf(q=0.975)"
   ]
  },
  {
   "cell_type": "code",
   "execution_count": 208,
   "id": "c212376f-a084-4ed3-9bd2-2e7b2f5bba1e",
   "metadata": {},
   "outputs": [],
   "source": [
    "t_critical = stats.t.ppf(q=0.975,df=24)"
   ]
  },
  {
   "cell_type": "code",
   "execution_count": 210,
   "id": "16e849e9-c484-42d7-a47d-446a1cb94408",
   "metadata": {},
   "outputs": [],
   "source": [
    "margin_of_error = z_critical * (np.std(mean_of_samples)/np.sqrt(20))"
   ]
  },
  {
   "cell_type": "code",
   "execution_count": 216,
   "id": "bb830492-85a2-4471-baf4-52b79c7ba028",
   "metadata": {},
   "outputs": [
    {
     "data": {
      "text/plain": [
       "14.787720879888688"
      ]
     },
     "execution_count": 216,
     "metadata": {},
     "output_type": "execute_result"
    }
   ],
   "source": [
    "np.mean(mean_of_samples) - margin_of_error"
   ]
  },
  {
   "cell_type": "code",
   "execution_count": 218,
   "id": "7a2fb6e6-a857-49ef-89d2-70e9b42aa6c0",
   "metadata": {},
   "outputs": [
    {
     "data": {
      "text/plain": [
       "15.262279120111312"
      ]
     },
     "execution_count": 218,
     "metadata": {},
     "output_type": "execute_result"
    }
   ],
   "source": [
    "np.mean(mean_of_samples) + margin_of_error"
   ]
  },
  {
   "cell_type": "markdown",
   "id": "e7b9665a-b2c1-4389-9731-e08f3e3aa9fd",
   "metadata": {},
   "source": [
    "# Z-test"
   ]
  },
  {
   "cell_type": "code",
   "execution_count": 221,
   "id": "bc588f1c-b541-4d89-865c-2d4d76a63b82",
   "metadata": {},
   "outputs": [],
   "source": [
    "from numpy.random import randn\n",
    "population=randn(100)"
   ]
  },
  {
   "cell_type": "code",
   "execution_count": 223,
   "id": "77161171-54eb-4e5c-b431-6ac343460388",
   "metadata": {},
   "outputs": [
    {
     "data": {
      "text/plain": [
       "array([ 0.59213331,  0.15954685, -0.58499095,  0.53927828, -1.49629818,\n",
       "        1.30087817, -1.65617409, -1.635074  ,  0.61488823,  1.07077883,\n",
       "        2.30160157,  1.33512758, -0.11268456,  0.11019649, -1.13656767,\n",
       "        0.38981445,  1.48497652, -0.26512688,  0.64574644, -0.96449836,\n",
       "        0.12600824,  0.39555532,  1.0468237 , -0.81661028,  0.49562069,\n",
       "       -0.21188666, -0.96904268,  1.12120238,  0.46602566,  1.03368298,\n",
       "        0.77750791, -0.1395841 ,  1.35214794, -1.02735027,  0.59291268,\n",
       "        1.0604069 , -1.1188573 ,  0.71275225,  0.67551279,  0.1489654 ,\n",
       "       -0.00370432, -0.44941585, -0.4109991 ,  0.29770337,  0.68345001,\n",
       "        0.35837519, -0.48604229, -0.14170779,  0.40589063, -0.15242889,\n",
       "        0.56350226,  1.40812828,  0.04886799,  0.69455968,  0.31502272,\n",
       "       -0.11119243,  0.71550236, -1.0743009 ,  1.16248551,  0.24527727,\n",
       "        1.05441995,  1.00611436, -0.26560489, -0.45372421, -0.21020292,\n",
       "        0.73583317, -1.14869509, -0.81462989, -0.18245812,  2.10258267,\n",
       "       -1.39978398, -0.61103491,  0.09093785, -0.21186841, -0.17632139,\n",
       "       -0.56927955, -0.47491264, -0.20492395,  0.1922081 , -1.1085062 ,\n",
       "       -0.31761954, -0.8228683 ,  1.38298536,  0.99421449,  1.42087477,\n",
       "        0.94501407,  0.58815831,  0.07528859, -1.82459831,  0.71216616,\n",
       "       -0.19158592,  0.22545172,  0.19157679,  0.66589436, -0.72686308,\n",
       "        1.16507931,  1.0770122 ,  1.05101246,  0.40038334,  0.52757795])"
      ]
     },
     "execution_count": 223,
     "metadata": {},
     "output_type": "execute_result"
    }
   ],
   "source": [
    "population"
   ]
  },
  {
   "cell_type": "code",
   "execution_count": 227,
   "id": "f5c09afd-d19d-46ed-9ee9-02adaf06d401",
   "metadata": {},
   "outputs": [
    {
     "data": {
      "text/plain": [
       "<seaborn.axisgrid.FacetGrid at 0x1c63a8855b0>"
      ]
     },
     "execution_count": 227,
     "metadata": {},
     "output_type": "execute_result"
    },
    {
     "data": {
      "image/png": "[encoded data removed]",
      "text/plain": [
       "<Figure size 500x500 with 1 Axes>"
      ]
     },
     "metadata": {},
     "output_type": "display_data"
    }
   ],
   "source": [
    "sns.displot(population,kde=True)"
   ]
  },
  {
   "cell_type": "code",
   "execution_count": 231,
   "id": "9e869391-b00c-4654-be10-d49dda49c449",
   "metadata": {},
   "outputs": [
    {
     "name": "stdout",
     "output_type": "stream",
     "text": [
      "here is a mean of the population: 0.1737362399370987, here is a std dev 0.8430344464447749\n"
     ]
    }
   ],
   "source": [
    "print(f\"here is a mean of the population: {np.mean(population)}, here is a std dev {np.std(population)}\")"
   ]
  },
  {
   "cell_type": "code",
   "execution_count": 233,
   "id": "98736e9c-b01d-470b-bcfd-e710fc176416",
   "metadata": {},
   "outputs": [],
   "source": [
    "null_mean= 0.022"
   ]
  },
  {
   "cell_type": "raw",
   "id": "5f8d7dd7-e6d1-4013-b556-9143a414cc1a",
   "metadata": {},
   "source": [
    "Confidence Interval =95%\n",
    "ALPHA=0.05(5%)"
   ]
  },
  {
   "cell_type": "raw",
   "id": "7e4426ed-da5f-44fd-8e26-76345d291a85",
   "metadata": {},
   "source": [
    "P <= 0.05 #REJECT THE NULL HYPHOTHESIS\n",
    "P > 0.05 #FAIL TO REJECT THE NULL HYPOTHESIS"
   ]
  },
  {
   "cell_type": "raw",
   "id": "6d6489b6-cd63-46f2-9060-6cc1947bc23c",
   "metadata": {},
   "source": [
    "P <= ALPHA value\n",
    "P > ALPHA value"
   ]
  },
  {
   "cell_type": "code",
   "execution_count": 239,
   "id": "08145464-923a-4613-b5ee-b899a842774d",
   "metadata": {},
   "outputs": [],
   "source": [
    "ALPHA=0.05"
   ]
  },
  {
   "cell_type": "code",
   "execution_count": 241,
   "id": "45d85513-580f-4b27-a558-5adc30296262",
   "metadata": {},
   "outputs": [],
   "source": [
    "from statsmodels.stats.weightstats import ztest\n",
    "z_score,p_value=ztest(population,value=null_mean,alternative='larger')"
   ]
  },
  {
   "cell_type": "code",
   "execution_count": 243,
   "id": "886448d6-e8c9-4ff8-b5b0-d6b46d5455c8",
   "metadata": {},
   "outputs": [
    {
     "data": {
      "text/plain": [
       "1.790859829368776"
      ]
     },
     "execution_count": 243,
     "metadata": {},
     "output_type": "execute_result"
    }
   ],
   "source": [
    "z_score"
   ]
  },
  {
   "cell_type": "code",
   "execution_count": 245,
   "id": "09005a44-fc95-4959-bfeb-ccff8a4fe5ef",
   "metadata": {},
   "outputs": [
    {
     "data": {
      "text/plain": [
       "0.03665789568738382"
      ]
     },
     "execution_count": 245,
     "metadata": {},
     "output_type": "execute_result"
    }
   ],
   "source": [
    "p_value"
   ]
  },
  {
   "cell_type": "code",
   "execution_count": 271,
   "id": "9e9b3386-9c51-4e6e-9097-5dd7d5cb31d9",
   "metadata": {},
   "outputs": [
    {
     "name": "stdout",
     "output_type": "stream",
     "text": [
      "reject the null hyphothesis\n"
     ]
    }
   ],
   "source": [
    "if (p_value <= ALPHA):\n",
    "    print(\"reject the null hyphothesis\")\n",
    "else:\n",
    "    print(\"fail to reject the null hypothesis\")"
   ]
  },
  {
   "cell_type": "raw",
   "id": "f810f386-ab1b-46ff-9989-6f4f316bd1d9",
   "metadata": {},
   "source": [
    "1 how to check the normality of the data\n",
    "2. z test\n",
    "3. t test\n",
    "4. chi squre test\n",
    "5 anova test"
   ]
  },
  {
   "cell_type": "code",
   "execution_count": 251,
   "id": "47e9a2f1-6658-49b8-8a9b-bfc2956c4f6c",
   "metadata": {},
   "outputs": [],
   "source": [
    "#import the dataset\n",
    "import pandas as pd\n",
    "data=pd.read_csv(\"https://raw.githubusercontent.com/shrikant-temburwar/Wine-Quality-Dataset/master/winequality-red.csv\",sep=';')"
   ]
  },
  {
   "cell_type": "code",
   "execution_count": 253,
   "id": "837df5f4-424c-4e7b-b33b-2b6548e013ba",
   "metadata": {},
   "outputs": [
    {
     "data": {
      "text/html": [
       "<div>\n",
       "<style scoped>\n",
       "    .dataframe tbody tr th:only-of-type {\n",
       "        vertical-align: middle;\n",
       "    }\n",
       "\n",
       "    .dataframe tbody tr th {\n",
       "        vertical-align: top;\n",
       "    }\n",
       "\n",
       "    .dataframe thead th {\n",
       "        text-align: right;\n",
       "    }\n",
       "</style>\n",
       "<table border=\"1\" class=\"dataframe\">\n",
       "  <thead>\n",
       "    <tr style=\"text-align: right;\">\n",
       "      <th></th>\n",
       "      <th>fixed acidity</th>\n",
       "      <th>volatile acidity</th>\n",
       "      <th>citric acid</th>\n",
       "      <th>residual sugar</th>\n",
       "      <th>chlorides</th>\n",
       "      <th>free sulfur dioxide</th>\n",
       "      <th>total sulfur dioxide</th>\n",
       "      <th>density</th>\n",
       "      <th>pH</th>\n",
       "      <th>sulphates</th>\n",
       "      <th>alcohol</th>\n",
       "      <th>quality</th>\n",
       "    </tr>\n",
       "  </thead>\n",
       "  <tbody>\n",
       "    <tr>\n",
       "      <th>0</th>\n",
       "      <td>7.4</td>\n",
       "      <td>0.700</td>\n",
       "      <td>0.00</td>\n",
       "      <td>1.9</td>\n",
       "      <td>0.076</td>\n",
       "      <td>11.0</td>\n",
       "      <td>34.0</td>\n",
       "      <td>0.99780</td>\n",
       "      <td>3.51</td>\n",
       "      <td>0.56</td>\n",
       "      <td>9.4</td>\n",
       "      <td>5</td>\n",
       "    </tr>\n",
       "    <tr>\n",
       "      <th>1</th>\n",
       "      <td>7.8</td>\n",
       "      <td>0.880</td>\n",
       "      <td>0.00</td>\n",
       "      <td>2.6</td>\n",
       "      <td>0.098</td>\n",
       "      <td>25.0</td>\n",
       "      <td>67.0</td>\n",
       "      <td>0.99680</td>\n",
       "      <td>3.20</td>\n",
       "      <td>0.68</td>\n",
       "      <td>9.8</td>\n",
       "      <td>5</td>\n",
       "    </tr>\n",
       "    <tr>\n",
       "      <th>2</th>\n",
       "      <td>7.8</td>\n",
       "      <td>0.760</td>\n",
       "      <td>0.04</td>\n",
       "      <td>2.3</td>\n",
       "      <td>0.092</td>\n",
       "      <td>15.0</td>\n",
       "      <td>54.0</td>\n",
       "      <td>0.99700</td>\n",
       "      <td>3.26</td>\n",
       "      <td>0.65</td>\n",
       "      <td>9.8</td>\n",
       "      <td>5</td>\n",
       "    </tr>\n",
       "    <tr>\n",
       "      <th>3</th>\n",
       "      <td>11.2</td>\n",
       "      <td>0.280</td>\n",
       "      <td>0.56</td>\n",
       "      <td>1.9</td>\n",
       "      <td>0.075</td>\n",
       "      <td>17.0</td>\n",
       "      <td>60.0</td>\n",
       "      <td>0.99800</td>\n",
       "      <td>3.16</td>\n",
       "      <td>0.58</td>\n",
       "      <td>9.8</td>\n",
       "      <td>6</td>\n",
       "    </tr>\n",
       "    <tr>\n",
       "      <th>4</th>\n",
       "      <td>7.4</td>\n",
       "      <td>0.700</td>\n",
       "      <td>0.00</td>\n",
       "      <td>1.9</td>\n",
       "      <td>0.076</td>\n",
       "      <td>11.0</td>\n",
       "      <td>34.0</td>\n",
       "      <td>0.99780</td>\n",
       "      <td>3.51</td>\n",
       "      <td>0.56</td>\n",
       "      <td>9.4</td>\n",
       "      <td>5</td>\n",
       "    </tr>\n",
       "    <tr>\n",
       "      <th>...</th>\n",
       "      <td>...</td>\n",
       "      <td>...</td>\n",
       "      <td>...</td>\n",
       "      <td>...</td>\n",
       "      <td>...</td>\n",
       "      <td>...</td>\n",
       "      <td>...</td>\n",
       "      <td>...</td>\n",
       "      <td>...</td>\n",
       "      <td>...</td>\n",
       "      <td>...</td>\n",
       "      <td>...</td>\n",
       "    </tr>\n",
       "    <tr>\n",
       "      <th>1594</th>\n",
       "      <td>6.2</td>\n",
       "      <td>0.600</td>\n",
       "      <td>0.08</td>\n",
       "      <td>2.0</td>\n",
       "      <td>0.090</td>\n",
       "      <td>32.0</td>\n",
       "      <td>44.0</td>\n",
       "      <td>0.99490</td>\n",
       "      <td>3.45</td>\n",
       "      <td>0.58</td>\n",
       "      <td>10.5</td>\n",
       "      <td>5</td>\n",
       "    </tr>\n",
       "    <tr>\n",
       "      <th>1595</th>\n",
       "      <td>5.9</td>\n",
       "      <td>0.550</td>\n",
       "      <td>0.10</td>\n",
       "      <td>2.2</td>\n",
       "      <td>0.062</td>\n",
       "      <td>39.0</td>\n",
       "      <td>51.0</td>\n",
       "      <td>0.99512</td>\n",
       "      <td>3.52</td>\n",
       "      <td>0.76</td>\n",
       "      <td>11.2</td>\n",
       "      <td>6</td>\n",
       "    </tr>\n",
       "    <tr>\n",
       "      <th>1596</th>\n",
       "      <td>6.3</td>\n",
       "      <td>0.510</td>\n",
       "      <td>0.13</td>\n",
       "      <td>2.3</td>\n",
       "      <td>0.076</td>\n",
       "      <td>29.0</td>\n",
       "      <td>40.0</td>\n",
       "      <td>0.99574</td>\n",
       "      <td>3.42</td>\n",
       "      <td>0.75</td>\n",
       "      <td>11.0</td>\n",
       "      <td>6</td>\n",
       "    </tr>\n",
       "    <tr>\n",
       "      <th>1597</th>\n",
       "      <td>5.9</td>\n",
       "      <td>0.645</td>\n",
       "      <td>0.12</td>\n",
       "      <td>2.0</td>\n",
       "      <td>0.075</td>\n",
       "      <td>32.0</td>\n",
       "      <td>44.0</td>\n",
       "      <td>0.99547</td>\n",
       "      <td>3.57</td>\n",
       "      <td>0.71</td>\n",
       "      <td>10.2</td>\n",
       "      <td>5</td>\n",
       "    </tr>\n",
       "    <tr>\n",
       "      <th>1598</th>\n",
       "      <td>6.0</td>\n",
       "      <td>0.310</td>\n",
       "      <td>0.47</td>\n",
       "      <td>3.6</td>\n",
       "      <td>0.067</td>\n",
       "      <td>18.0</td>\n",
       "      <td>42.0</td>\n",
       "      <td>0.99549</td>\n",
       "      <td>3.39</td>\n",
       "      <td>0.66</td>\n",
       "      <td>11.0</td>\n",
       "      <td>6</td>\n",
       "    </tr>\n",
       "  </tbody>\n",
       "</table>\n",
       "<p>1599 rows × 12 columns</p>\n",
       "</div>"
      ],
      "text/plain": [
       "      fixed acidity  volatile acidity  citric acid  residual sugar  chlorides  \\\n",
       "0               7.4             0.700         0.00             1.9      0.076   \n",
       "1               7.8             0.880         0.00             2.6      0.098   \n",
       "2               7.8             0.760         0.04             2.3      0.092   \n",
       "3              11.2             0.280         0.56             1.9      0.075   \n",
       "4               7.4             0.700         0.00             1.9      0.076   \n",
       "...             ...               ...          ...             ...        ...   \n",
       "1594            6.2             0.600         0.08             2.0      0.090   \n",
       "1595            5.9             0.550         0.10             2.2      0.062   \n",
       "1596            6.3             0.510         0.13             2.3      0.076   \n",
       "1597            5.9             0.645         0.12             2.0      0.075   \n",
       "1598            6.0             0.310         0.47             3.6      0.067   \n",
       "\n",
       "      free sulfur dioxide  total sulfur dioxide  density    pH  sulphates  \\\n",
       "0                    11.0                  34.0  0.99780  3.51       0.56   \n",
       "1                    25.0                  67.0  0.99680  3.20       0.68   \n",
       "2                    15.0                  54.0  0.99700  3.26       0.65   \n",
       "3                    17.0                  60.0  0.99800  3.16       0.58   \n",
       "4                    11.0                  34.0  0.99780  3.51       0.56   \n",
       "...                   ...                   ...      ...   ...        ...   \n",
       "1594                 32.0                  44.0  0.99490  3.45       0.58   \n",
       "1595                 39.0                  51.0  0.99512  3.52       0.76   \n",
       "1596                 29.0                  40.0  0.99574  3.42       0.75   \n",
       "1597                 32.0                  44.0  0.99547  3.57       0.71   \n",
       "1598                 18.0                  42.0  0.99549  3.39       0.66   \n",
       "\n",
       "      alcohol  quality  \n",
       "0         9.4        5  \n",
       "1         9.8        5  \n",
       "2         9.8        5  \n",
       "3         9.8        6  \n",
       "4         9.4        5  \n",
       "...       ...      ...  \n",
       "1594     10.5        5  \n",
       "1595     11.2        6  \n",
       "1596     11.0        6  \n",
       "1597     10.2        5  \n",
       "1598     11.0        6  \n",
       "\n",
       "[1599 rows x 12 columns]"
      ]
     },
     "execution_count": 253,
     "metadata": {},
     "output_type": "execute_result"
    }
   ],
   "source": [
    "data"
   ]
  },
  {
   "cell_type": "code",
   "execution_count": 255,
   "id": "ac24c4de-8d14-4b36-aa05-c804a358fdfd",
   "metadata": {},
   "outputs": [
    {
     "data": {
      "text/plain": [
       "0       0.700\n",
       "1       0.880\n",
       "2       0.760\n",
       "3       0.280\n",
       "4       0.700\n",
       "        ...  \n",
       "1594    0.600\n",
       "1595    0.550\n",
       "1596    0.510\n",
       "1597    0.645\n",
       "1598    0.310\n",
       "Name: volatile acidity, Length: 1599, dtype: float64"
      ]
     },
     "execution_count": 255,
     "metadata": {},
     "output_type": "execute_result"
    }
   ],
   "source": [
    "data['volatile acidity']"
   ]
  },
  {
   "cell_type": "code",
   "execution_count": 259,
   "id": "9fbff7c1-9641-4be6-8655-53b6ef95f5c7",
   "metadata": {},
   "outputs": [
    {
     "data": {
      "text/plain": [
       "<seaborn.axisgrid.FacetGrid at 0x1c63a997920>"
      ]
     },
     "execution_count": 259,
     "metadata": {},
     "output_type": "execute_result"
    },
    {
     "data": {
      "image/png": "[encoded data removed]",
      "text/plain": [
       "<Figure size 500x500 with 1 Axes>"
      ]
     },
     "metadata": {},
     "output_type": "display_data"
    }
   ],
   "source": [
    "import seaborn as sns\n",
    "sns.displot(data['volatile acidity'] , kde = True)"
   ]
  },
  {
   "cell_type": "code",
   "execution_count": 265,
   "id": "31cd1f86-cc64-44a6-9adc-19fc89b821a2",
   "metadata": {},
   "outputs": [
    {
     "data": {
      "text/plain": [
       "<seaborn.axisgrid.FacetGrid at 0x1c639739610>"
      ]
     },
     "execution_count": 265,
     "metadata": {},
     "output_type": "execute_result"
    },
    {
     "data": {
      "image/png": "[encoded data removed]",
      "text/plain": [
       "<Figure size 500x500 with 1 Axes>"
      ]
     },
     "metadata": {},
     "output_type": "display_data"
    }
   ],
   "source": [
    "import seaborn as sns\n",
    "sns.displot(data['citric acid'] , kde = True, color = \"red\")"
   ]
  },
  {
   "cell_type": "code",
   "execution_count": 267,
   "id": "2e5af3a0-8ad7-42b5-8c48-1164bcc80500",
   "metadata": {},
   "outputs": [
    {
     "data": {
      "text/plain": [
       "ShapiroResult(statistic=0.9743368805536368, pvalue=2.692934735712727e-16)"
      ]
     },
     "execution_count": 267,
     "metadata": {},
     "output_type": "execute_result"
    }
   ],
   "source": [
    "from scipy import stats\n",
    "stats.shapiro(data['volatile acidity'])"
   ]
  },
  {
   "cell_type": "code",
   "execution_count": 269,
   "id": "3e7c51ff-5e44-4e61-8cfb-3750aebc1500",
   "metadata": {},
   "outputs": [
    {
     "data": {
      "text/plain": [
       "ShapiroResult(statistic=0.9552919890668837, pvalue=1.0219317829705018e-21)"
      ]
     },
     "execution_count": 269,
     "metadata": {},
     "output_type": "execute_result"
    }
   ],
   "source": [
    "stats.shapiro(data['citric acid'])"
   ]
  },
  {
   "cell_type": "raw",
   "id": "1deeb970-db77-4851-a4d4-b0c1d574e908",
   "metadata": {},
   "source": [
    "p < 0.05"
   ]
  },
  {
   "cell_type": "code",
   "execution_count": 275,
   "id": "7444022f-4f35-46f0-ae05-1cf2b17b39fb",
   "metadata": {},
   "outputs": [],
   "source": [
    "from numpy.random import randn\n",
    "mydata=randn(500)"
   ]
  },
  {
   "cell_type": "code",
   "execution_count": 279,
   "id": "3c0e2a42-c2b5-472b-8c7e-e7bb2160ab85",
   "metadata": {},
   "outputs": [
    {
     "data": {
      "text/plain": [
       "<seaborn.axisgrid.FacetGrid at 0x1c6380d85f0>"
      ]
     },
     "execution_count": 279,
     "metadata": {},
     "output_type": "execute_result"
    },
    {
     "data": {
      "image/png": "[encoded data removed]",
      "text/plain": [
       "<Figure size 500x500 with 1 Axes>"
      ]
     },
     "metadata": {},
     "output_type": "display_data"
    }
   ],
   "source": [
    "sns.displot(mydata,kde=True)"
   ]
  },
  {
   "cell_type": "code",
   "execution_count": 283,
   "id": "3eb3f9cc-d644-44e5-849a-b9505a6bf3a1",
   "metadata": {},
   "outputs": [
    {
     "data": {
      "text/plain": [
       "ShapiroResult(statistic=0.9975550673708642, pvalue=0.6807713427583337)"
      ]
     },
     "execution_count": 283,
     "metadata": {},
     "output_type": "execute_result"
    }
   ],
   "source": [
    "result=stats.shapiro(mydata)\n",
    "result"
   ]
  },
  {
   "cell_type": "markdown",
   "id": "c2678b10-8c6b-4b51-9a4d-fb02e57b0d27",
   "metadata": {},
   "source": [
    "# What is my null hypothesis?\n",
    "\n",
    "# null hypothesis is that the data was drawn from a normal distribution."
   ]
  },
  {
   "cell_type": "raw",
   "id": "f9d40b44-21c9-4ea6-a919-316e482c47fa",
   "metadata": {},
   "source": [
    "if p < =result[1]:\n",
    "    print(\"reject the null hyphothesis\")\n",
    "else:\n",
    "    print(\"fail to reject null hyphothsis\")"
   ]
  },
  {
   "cell_type": "code",
   "execution_count": 290,
   "id": "a6ac87ec-caf5-41cd-a62e-6cdcdfa45397",
   "metadata": {},
   "outputs": [
    {
     "data": {
      "text/plain": [
       "NormaltestResult(statistic=152.039214793795, pvalue=9.662822259281018e-34)"
      ]
     },
     "execution_count": 290,
     "metadata": {},
     "output_type": "execute_result"
    }
   ],
   "source": [
    "from scipy import stats\n",
    "stats.normaltest(data['citric acid'])"
   ]
  },
  {
   "cell_type": "code",
   "execution_count": 292,
   "id": "31fbcf5b-d10f-481b-85a7-d55566a21d52",
   "metadata": {},
   "outputs": [
    {
     "data": {
      "text/plain": [
       "NormaltestResult(statistic=2.4463123584357267, pvalue=0.2942998365237077)"
      ]
     },
     "execution_count": 292,
     "metadata": {},
     "output_type": "execute_result"
    }
   ],
   "source": [
    "stats.normaltest(mydata)"
   ]
  },
  {
   "cell_type": "raw",
   "id": "ca776e36-ec1d-43be-a1cc-2e6ae3002667",
   "metadata": {},
   "source": [
    "sample_mean_iq=110\n",
    "alpha=0.05\n",
    "#ci=95%"
   ]
  },
  {
   "cell_type": "code",
   "execution_count": 316,
   "id": "089dfc86-4673-4d1e-8010-7cf55ded27c7",
   "metadata": {},
   "outputs": [],
   "source": [
    "sample_mean_iq=110\n",
    "alpha=0.05"
   ]
  },
  {
   "cell_type": "code",
   "execution_count": 318,
   "id": "ace55fd3-de01-4712-9f6d-c9b6c91eeeb5",
   "metadata": {},
   "outputs": [],
   "source": [
    "mean_std_dev = 15\n",
    "mean_population = 100"
   ]
  },
  {
   "cell_type": "code",
   "execution_count": 322,
   "id": "e7c19a3c-df65-469c-b677-80987acee61a",
   "metadata": {},
   "outputs": [
    {
     "data": {
      "text/plain": [
       "array([111.56951476, 125.65141428, 107.94126396, 127.36931582,\n",
       "       136.06086947, 114.01486579, 110.26840695, 104.12193747,\n",
       "       113.02535179, 114.24374904, 101.26062329, 118.22439725,\n",
       "        93.43380945,  98.79403331, 117.17752198, 118.03870372,\n",
       "        73.81873259,  96.30907794, 125.15803345, 104.07323671,\n",
       "       132.05372941, 115.59524304,  72.21759447, 124.82556092,\n",
       "       126.33315659, 127.7495309 ,  98.64363275, 130.33294549,\n",
       "       136.21753944, 115.3095174 , 132.26091436, 106.6349024 ,\n",
       "       127.59360937, 124.05626873, 110.70865815,  92.46586732,\n",
       "       106.77119599, 101.61740296, 108.68030022, 121.0551651 ,\n",
       "       104.71590929, 132.2968284 , 113.45119767, 106.24002462,\n",
       "       114.37080483, 113.84712292, 111.18288353,  97.77900865,\n",
       "        99.49588364,  97.95723842])"
      ]
     },
     "execution_count": 322,
     "metadata": {},
     "output_type": "execute_result"
    }
   ],
   "source": [
    "mean_std_dev*randn(50) + sample_mean_iq"
   ]
  },
  {
   "cell_type": "code",
   "execution_count": 324,
   "id": "7ca170cb-9b36-4dea-8722-b250578bf19d",
   "metadata": {},
   "outputs": [],
   "source": [
    "data=mean_std_dev*randn(50)+mean_population"
   ]
  },
  {
   "cell_type": "code",
   "execution_count": 326,
   "id": "bbd24dab-c3e3-4f27-ace5-917b8d759d66",
   "metadata": {},
   "outputs": [
    {
     "data": {
      "text/plain": [
       "97.79951358261576"
      ]
     },
     "execution_count": 326,
     "metadata": {},
     "output_type": "execute_result"
    }
   ],
   "source": [
    "np.mean(data)"
   ]
  },
  {
   "cell_type": "code",
   "execution_count": 328,
   "id": "13d163d8-0da7-482e-b9f3-ddb818029fd5",
   "metadata": {},
   "outputs": [
    {
     "data": {
      "text/plain": [
       "14.512399393922527"
      ]
     },
     "execution_count": 328,
     "metadata": {},
     "output_type": "execute_result"
    }
   ],
   "source": [
    "np.std(data)"
   ]
  },
  {
   "cell_type": "code",
   "execution_count": 330,
   "id": "f49cbe84-6668-4978-9ecc-ade6ff969884",
   "metadata": {},
   "outputs": [],
   "source": [
    "null_hyphothesis_value=100"
   ]
  },
  {
   "cell_type": "code",
   "execution_count": 332,
   "id": "21e9a6ff-316d-4229-952b-6d95d266dcc9",
   "metadata": {},
   "outputs": [
    {
     "data": {
      "text/plain": [
       "(-1.061396155355281, 0.8557450482950146)"
      ]
     },
     "execution_count": 332,
     "metadata": {},
     "output_type": "execute_result"
    }
   ],
   "source": [
    "from statsmodels.stats.weightstats import ztest\n",
    "ztest(data,value=null_hyphothesis_value,alternative='larger')"
   ]
  },
  {
   "cell_type": "code",
   "execution_count": 334,
   "id": "0f74fa14-c71b-4131-b85b-dc446df96943",
   "metadata": {},
   "outputs": [
    {
     "data": {
      "text/plain": [
       "array([122.60069024,  89.52540321,  98.41579942, 112.05404673,\n",
       "        91.66626535,  84.65538464, 112.59962101,  79.24947793,\n",
       "        88.93712055,  94.87422872, 105.14790496,  83.21934883,\n",
       "        83.53822711,  87.04387679,  96.31343272, 102.08886018,\n",
       "        78.57277859, 101.11393208,  89.09690465,  93.2110268 ,\n",
       "       112.38198037, 121.23898951,  98.63617389, 100.47501237,\n",
       "        80.56195153,  96.49402936, 108.4362928 ,  90.48354991,\n",
       "        96.19434921, 130.43809898, 109.31135904,  96.60710017,\n",
       "        81.64773325, 109.10613282, 106.33359123,  64.03332533,\n",
       "        91.83952061, 100.13114469, 125.78422829,  88.89632625,\n",
       "        97.96736665, 109.49330931,  71.5385375 , 116.35647365,\n",
       "       106.86302521,  98.09017154,  67.0734676 ,  91.74442416,\n",
       "       114.81458633, 113.07909703])"
      ]
     },
     "execution_count": 334,
     "metadata": {},
     "output_type": "execute_result"
    }
   ],
   "source": [
    "data"
   ]
  },
  {
   "cell_type": "markdown",
   "id": "9051ed56-a063-452e-8426-4ac55b03d052",
   "metadata": {},
   "source": [
    "# t - test"
   ]
  },
  {
   "cell_type": "raw",
   "id": "ce523eb9-24b1-4063-962b-bc186553a8d5",
   "metadata": {},
   "source": [
    "#ztest vs test\n",
    "sample size less than 30\n",
    "pop var/pop std won't be there"
   ]
  },
  {
   "cell_type": "raw",
   "id": "b9c9b539-0e2e-4a5a-99ac-27dcae15da37",
   "metadata": {},
   "source": [
    "one-sample t test(with respect to one independent sample)\n",
    "two-sample t test(with respect to two independent sample)\n",
    "paired t-test(two sample from the sample population on different time interval)"
   ]
  },
  {
   "cell_type": "code",
   "execution_count": 337,
   "id": "8db1672c-6b11-43de-a42a-b136c064bc2e",
   "metadata": {},
   "outputs": [
    {
     "data": {
      "text/plain": [
       "array([40, 22, 46, 40, 22, 38, 43, 30, 17, 39, 30, 26, 30, 17, 44, 33, 23,\n",
       "       16, 40, 27, 26, 21, 13, 20, 14, 32, 12, 39, 41, 46, 48, 48, 43, 19,\n",
       "       33, 12, 34, 33, 11, 24, 37, 19, 23, 18, 49, 36, 44, 48, 23, 42])"
      ]
     },
     "execution_count": 337,
     "metadata": {},
     "output_type": "execute_result"
    }
   ],
   "source": [
    "import random\n",
    "import numpy as np\n",
    "np.random.randint(10,50,50)"
   ]
  },
  {
   "cell_type": "code",
   "execution_count": 339,
   "id": "60c54b41-c984-41a3-917b-18c5ef986032",
   "metadata": {},
   "outputs": [],
   "source": [
    "population=np.random.randint(10,50,50)"
   ]
  },
  {
   "cell_type": "code",
   "execution_count": 341,
   "id": "9a9e6e4f-456e-49dd-84bc-08d5d2889169",
   "metadata": {},
   "outputs": [],
   "source": [
    "sample1 = np.random.choice(population,20)"
   ]
  },
  {
   "cell_type": "code",
   "execution_count": 343,
   "id": "a285d2c4-e9f6-482e-b41c-7b6daa62c60d",
   "metadata": {},
   "outputs": [
    {
     "data": {
      "text/plain": [
       "array([17, 14, 30, 49, 14, 34, 40, 23, 10, 26, 31, 42, 35, 43, 49, 25, 34,\n",
       "       17, 10, 17])"
      ]
     },
     "execution_count": 343,
     "metadata": {},
     "output_type": "execute_result"
    }
   ],
   "source": [
    "sample1"
   ]
  },
  {
   "cell_type": "code",
   "execution_count": 345,
   "id": "63957c90-6775-483c-bb21-c6f1b583a0b9",
   "metadata": {},
   "outputs": [
    {
     "data": {
      "text/plain": [
       "28.0"
      ]
     },
     "execution_count": 345,
     "metadata": {},
     "output_type": "execute_result"
    }
   ],
   "source": [
    "sample1.mean()"
   ]
  },
  {
   "cell_type": "code",
   "execution_count": 349,
   "id": "4005ad5f-56a9-4e47-86b7-f220d2b14ee1",
   "metadata": {},
   "outputs": [],
   "source": [
    "sample2 = np.random.choice(population,20)"
   ]
  },
  {
   "cell_type": "code",
   "execution_count": 351,
   "id": "5e91d2bd-5de9-415c-948f-f228e77594af",
   "metadata": {},
   "outputs": [
    {
     "data": {
      "text/plain": [
       "array([35, 14, 46, 44, 14, 26, 29, 27, 19, 42, 16, 35, 14, 15, 24, 24, 40,\n",
       "       14, 23, 10])"
      ]
     },
     "execution_count": 351,
     "metadata": {},
     "output_type": "execute_result"
    }
   ],
   "source": [
    "sample2"
   ]
  },
  {
   "cell_type": "code",
   "execution_count": 353,
   "id": "e1ecf2cf-8355-4245-9764-fa05c22ea0c1",
   "metadata": {},
   "outputs": [
    {
     "data": {
      "text/plain": [
       "25.55"
      ]
     },
     "execution_count": 353,
     "metadata": {},
     "output_type": "execute_result"
    }
   ],
   "source": [
    "sample2.mean()"
   ]
  },
  {
   "cell_type": "code",
   "execution_count": 355,
   "id": "c3e5a680-b122-41cf-a09c-d29b3ce74fbb",
   "metadata": {},
   "outputs": [],
   "source": [
    "my_cricket_score=[22, 38, 19, 15, 48, 11, 10, 49, 47, 38, 10, 25, 46, 10, 21, 24, 29,36, 25, 24]"
   ]
  },
  {
   "cell_type": "code",
   "execution_count": 357,
   "id": "a022eec1-a5ee-40db-8577-634a11e7aae3",
   "metadata": {},
   "outputs": [
    {
     "data": {
      "text/plain": [
       "27.35"
      ]
     },
     "execution_count": 357,
     "metadata": {},
     "output_type": "execute_result"
    }
   ],
   "source": [
    "np.mean(my_cricket_score)"
   ]
  },
  {
   "cell_type": "raw",
   "id": "3505d0de-6000-4cd9-b3ac-680a737b203f",
   "metadata": {},
   "source": [
    "null_hyphothesis = sample mean should be 27.35"
   ]
  },
  {
   "cell_type": "code",
   "execution_count": 359,
   "id": "f2236956-108f-4fb7-8b1b-2e50ad857432",
   "metadata": {},
   "outputs": [],
   "source": [
    "virat_cricket_score=[33, 45, 23, 25, 46, 46, 46, 49, 49, 14, 14, 44, 25, 31, 25, 40, 30,20, 42, 37]"
   ]
  },
  {
   "cell_type": "code",
   "execution_count": 361,
   "id": "5346d507-1ddf-4156-9cb2-f61c5600454d",
   "metadata": {},
   "outputs": [
    {
     "data": {
      "text/plain": [
       "34.2"
      ]
     },
     "execution_count": 361,
     "metadata": {},
     "output_type": "execute_result"
    }
   ],
   "source": [
    "(sum(virat_cricket_score))/len(virat_cricket_score)"
   ]
  },
  {
   "cell_type": "code",
   "execution_count": 363,
   "id": "86c1580b-6802-4977-b74f-a787debf91ce",
   "metadata": {},
   "outputs": [
    {
     "data": {
      "text/plain": [
       "34.2"
      ]
     },
     "execution_count": 363,
     "metadata": {},
     "output_type": "execute_result"
    }
   ],
   "source": [
    "np.mean(virat_cricket_score)"
   ]
  },
  {
   "cell_type": "code",
   "execution_count": 365,
   "id": "e121b3f8-68f7-47f5-9e8b-d55c82018ebe",
   "metadata": {},
   "outputs": [],
   "source": [
    "import scipy\n",
    "result=scipy.stats.ttest_1samp(my_cricket_score,15)"
   ]
  },
  {
   "cell_type": "code",
   "execution_count": 367,
   "id": "e7511cbc-dde6-4091-88b9-0c2745526b25",
   "metadata": {},
   "outputs": [
    {
     "data": {
      "text/plain": [
       "0.0005939030580482863"
      ]
     },
     "execution_count": 367,
     "metadata": {},
     "output_type": "execute_result"
    }
   ],
   "source": [
    "result[1]"
   ]
  },
  {
   "cell_type": "raw",
   "id": "baaf5f88-79f4-4a9d-9325-9f1de71ff466",
   "metadata": {},
   "source": [
    "# we are going to reject the null hyphothesis\n",
    "as p_value is <= the alpha value (0.05)"
   ]
  },
  {
   "cell_type": "code",
   "execution_count": 369,
   "id": "75a55e16-abb2-441e-862b-62a4a8a0df83",
   "metadata": {},
   "outputs": [
    {
     "data": {
      "text/plain": [
       "TtestResult(statistic=0.11652110620241571, pvalue=0.9084623785416333, df=19)"
      ]
     },
     "execution_count": 369,
     "metadata": {},
     "output_type": "execute_result"
    }
   ],
   "source": [
    "scipy.stats.ttest_1samp(my_cricket_score,27)"
   ]
  },
  {
   "cell_type": "code",
   "execution_count": 371,
   "id": "24f33a6a-53d4-40c4-b233-10249e84906b",
   "metadata": {},
   "outputs": [],
   "source": [
    "#two-sample t test(with respect to two independent sample)\n",
    "my_cricket_score=[22, 38, 19, 15, 48, 11, 10, 49, 47, 38, 10, 25, 46, 10, 21, 24, 29,36, 25, 24]\n",
    "\n",
    "virat_cricket_score=[33, 45, 23, 25, 46, 46, 46, 49, 49, 44, 44, 49, 25, 31, 25, 40, 30,20, 42, 37]"
   ]
  },
  {
   "cell_type": "code",
   "execution_count": 373,
   "id": "c67be2ac-61f9-47bc-9146-2c1cb54710af",
   "metadata": {},
   "outputs": [],
   "source": [
    "first_sample_mean=np.mean(my_cricket_score)\n",
    "second_sample_mean=np.mean(virat_cricket_score)"
   ]
  },
  {
   "cell_type": "code",
   "execution_count": 375,
   "id": "adc77c6e-4db8-4be3-8084-a0daf195dde0",
   "metadata": {},
   "outputs": [
    {
     "name": "stdout",
     "output_type": "stream",
     "text": [
      "27.35\n",
      "37.45\n"
     ]
    }
   ],
   "source": [
    "print(first_sample_mean)\n",
    "print(second_sample_mean)"
   ]
  },
  {
   "cell_type": "raw",
   "id": "398c3fe2-975a-410e-bbc5-687309d996e1",
   "metadata": {},
   "source": [
    "my_null_hyphothsis=both sample mean will be same"
   ]
  },
  {
   "cell_type": "raw",
   "id": "b5e8c9d8-07a2-4442-aa7c-895715f79ffb",
   "metadata": {},
   "source": [
    "# we are going to reject the null hyphothesis\n",
    "p_value<=0.05\n",
    "#if P_value we are going to accept the null hyphgothesis\n",
    "p_value>0.05"
   ]
  },
  {
   "cell_type": "code",
   "execution_count": 379,
   "id": "d667c013-b428-47ea-b998-3609c3e96c19",
   "metadata": {},
   "outputs": [],
   "source": [
    "#paired t-test(two sample from the sample population on different time interval)\n",
    "my_cricket_score_from_first_inning=[22, 38, 19, 15, 48, 11, 10, 49, 47, 38, 10, 25, 46, 10, 21, 24, 29,36, 25, 24]\n",
    "my_cricket_score_from_second_inning=[22, 38, 29, 15, 18, 11, 10, 49, 47, 38, 50, 45, 46, 40, 21, 24, 29,16, 25, 24]"
   ]
  },
  {
   "cell_type": "code",
   "execution_count": 381,
   "id": "a211aca2-15e5-4ff7-8565-86cc6104d7cf",
   "metadata": {},
   "outputs": [
    {
     "name": "stdout",
     "output_type": "stream",
     "text": [
      "27.35\n",
      "29.85\n"
     ]
    }
   ],
   "source": [
    "print(np.mean(my_cricket_score_from_first_inning))\n",
    "print(np.mean(my_cricket_score_from_second_inning))"
   ]
  },
  {
   "cell_type": "code",
   "execution_count": 383,
   "id": "1a030788-8b2c-4269-80a7-2a45ab36612c",
   "metadata": {},
   "outputs": [
    {
     "data": {
      "text/plain": [
       "TtestResult(statistic=-0.7542295906745516, pvalue=0.45995773816634733, df=19)"
      ]
     },
     "execution_count": 383,
     "metadata": {},
     "output_type": "execute_result"
    }
   ],
   "source": [
    "scipy.stats.ttest_rel(my_cricket_score_from_first_inning,my_cricket_score_from_second_inning)"
   ]
  },
  {
   "cell_type": "markdown",
   "id": "83885a10-866c-474b-b9f1-3efc613dda8d",
   "metadata": {},
   "source": [
    "# CHI - SQURE TEST"
   ]
  },
  {
   "cell_type": "code",
   "execution_count": 386,
   "id": "37f09ddd-3cbc-4aa9-9ea0-844813a88cc7",
   "metadata": {},
   "outputs": [],
   "source": [
    "import seaborn as sns\n",
    "dataset=sns.load_dataset('tips')"
   ]
  },
  {
   "cell_type": "code",
   "execution_count": 388,
   "id": "10cb8a0c-d8fa-4abc-8390-0bb2951be2af",
   "metadata": {},
   "outputs": [
    {
     "data": {
      "text/html": [
       "<div>\n",
       "<style scoped>\n",
       "    .dataframe tbody tr th:only-of-type {\n",
       "        vertical-align: middle;\n",
       "    }\n",
       "\n",
       "    .dataframe tbody tr th {\n",
       "        vertical-align: top;\n",
       "    }\n",
       "\n",
       "    .dataframe thead th {\n",
       "        text-align: right;\n",
       "    }\n",
       "</style>\n",
       "<table border=\"1\" class=\"dataframe\">\n",
       "  <thead>\n",
       "    <tr style=\"text-align: right;\">\n",
       "      <th></th>\n",
       "      <th>total_bill</th>\n",
       "      <th>tip</th>\n",
       "      <th>sex</th>\n",
       "      <th>smoker</th>\n",
       "      <th>day</th>\n",
       "      <th>time</th>\n",
       "      <th>size</th>\n",
       "    </tr>\n",
       "  </thead>\n",
       "  <tbody>\n",
       "    <tr>\n",
       "      <th>0</th>\n",
       "      <td>16.99</td>\n",
       "      <td>1.01</td>\n",
       "      <td>Female</td>\n",
       "      <td>No</td>\n",
       "      <td>Sun</td>\n",
       "      <td>Dinner</td>\n",
       "      <td>2</td>\n",
       "    </tr>\n",
       "    <tr>\n",
       "      <th>1</th>\n",
       "      <td>10.34</td>\n",
       "      <td>1.66</td>\n",
       "      <td>Male</td>\n",
       "      <td>No</td>\n",
       "      <td>Sun</td>\n",
       "      <td>Dinner</td>\n",
       "      <td>3</td>\n",
       "    </tr>\n",
       "    <tr>\n",
       "      <th>2</th>\n",
       "      <td>21.01</td>\n",
       "      <td>3.50</td>\n",
       "      <td>Male</td>\n",
       "      <td>No</td>\n",
       "      <td>Sun</td>\n",
       "      <td>Dinner</td>\n",
       "      <td>3</td>\n",
       "    </tr>\n",
       "    <tr>\n",
       "      <th>3</th>\n",
       "      <td>23.68</td>\n",
       "      <td>3.31</td>\n",
       "      <td>Male</td>\n",
       "      <td>No</td>\n",
       "      <td>Sun</td>\n",
       "      <td>Dinner</td>\n",
       "      <td>2</td>\n",
       "    </tr>\n",
       "    <tr>\n",
       "      <th>4</th>\n",
       "      <td>24.59</td>\n",
       "      <td>3.61</td>\n",
       "      <td>Female</td>\n",
       "      <td>No</td>\n",
       "      <td>Sun</td>\n",
       "      <td>Dinner</td>\n",
       "      <td>4</td>\n",
       "    </tr>\n",
       "    <tr>\n",
       "      <th>...</th>\n",
       "      <td>...</td>\n",
       "      <td>...</td>\n",
       "      <td>...</td>\n",
       "      <td>...</td>\n",
       "      <td>...</td>\n",
       "      <td>...</td>\n",
       "      <td>...</td>\n",
       "    </tr>\n",
       "    <tr>\n",
       "      <th>239</th>\n",
       "      <td>29.03</td>\n",
       "      <td>5.92</td>\n",
       "      <td>Male</td>\n",
       "      <td>No</td>\n",
       "      <td>Sat</td>\n",
       "      <td>Dinner</td>\n",
       "      <td>3</td>\n",
       "    </tr>\n",
       "    <tr>\n",
       "      <th>240</th>\n",
       "      <td>27.18</td>\n",
       "      <td>2.00</td>\n",
       "      <td>Female</td>\n",
       "      <td>Yes</td>\n",
       "      <td>Sat</td>\n",
       "      <td>Dinner</td>\n",
       "      <td>2</td>\n",
       "    </tr>\n",
       "    <tr>\n",
       "      <th>241</th>\n",
       "      <td>22.67</td>\n",
       "      <td>2.00</td>\n",
       "      <td>Male</td>\n",
       "      <td>Yes</td>\n",
       "      <td>Sat</td>\n",
       "      <td>Dinner</td>\n",
       "      <td>2</td>\n",
       "    </tr>\n",
       "    <tr>\n",
       "      <th>242</th>\n",
       "      <td>17.82</td>\n",
       "      <td>1.75</td>\n",
       "      <td>Male</td>\n",
       "      <td>No</td>\n",
       "      <td>Sat</td>\n",
       "      <td>Dinner</td>\n",
       "      <td>2</td>\n",
       "    </tr>\n",
       "    <tr>\n",
       "      <th>243</th>\n",
       "      <td>18.78</td>\n",
       "      <td>3.00</td>\n",
       "      <td>Female</td>\n",
       "      <td>No</td>\n",
       "      <td>Thur</td>\n",
       "      <td>Dinner</td>\n",
       "      <td>2</td>\n",
       "    </tr>\n",
       "  </tbody>\n",
       "</table>\n",
       "<p>244 rows × 7 columns</p>\n",
       "</div>"
      ],
      "text/plain": [
       "     total_bill   tip     sex smoker   day    time  size\n",
       "0         16.99  1.01  Female     No   Sun  Dinner     2\n",
       "1         10.34  1.66    Male     No   Sun  Dinner     3\n",
       "2         21.01  3.50    Male     No   Sun  Dinner     3\n",
       "3         23.68  3.31    Male     No   Sun  Dinner     2\n",
       "4         24.59  3.61  Female     No   Sun  Dinner     4\n",
       "..          ...   ...     ...    ...   ...     ...   ...\n",
       "239       29.03  5.92    Male     No   Sat  Dinner     3\n",
       "240       27.18  2.00  Female    Yes   Sat  Dinner     2\n",
       "241       22.67  2.00    Male    Yes   Sat  Dinner     2\n",
       "242       17.82  1.75    Male     No   Sat  Dinner     2\n",
       "243       18.78  3.00  Female     No  Thur  Dinner     2\n",
       "\n",
       "[244 rows x 7 columns]"
      ]
     },
     "execution_count": 388,
     "metadata": {},
     "output_type": "execute_result"
    }
   ],
   "source": [
    "dataset"
   ]
  },
  {
   "cell_type": "code",
   "execution_count": 390,
   "id": "89d5943d-23cf-4361-9a5e-11ea90a480d1",
   "metadata": {},
   "outputs": [
    {
     "name": "stdout",
     "output_type": "stream",
     "text": [
      "<class 'pandas.core.frame.DataFrame'>\n",
      "RangeIndex: 244 entries, 0 to 243\n",
      "Data columns (total 7 columns):\n",
      " #   Column      Non-Null Count  Dtype   \n",
      "---  ------      --------------  -----   \n",
      " 0   total_bill  244 non-null    float64 \n",
      " 1   tip         244 non-null    float64 \n",
      " 2   sex         244 non-null    category\n",
      " 3   smoker      244 non-null    category\n",
      " 4   day         244 non-null    category\n",
      " 5   time        244 non-null    category\n",
      " 6   size        244 non-null    int64   \n",
      "dtypes: category(4), float64(2), int64(1)\n",
      "memory usage: 7.4 KB\n"
     ]
    }
   ],
   "source": [
    "dataset.info()"
   ]
  },
  {
   "cell_type": "code",
   "execution_count": 392,
   "id": "1637d194-3b22-4c31-aceb-c0c7ebeace32",
   "metadata": {},
   "outputs": [
    {
     "data": {
      "text/plain": [
       "Index(['total_bill', 'tip', 'sex', 'smoker', 'day', 'time', 'size'], dtype='object')"
      ]
     },
     "execution_count": 392,
     "metadata": {},
     "output_type": "execute_result"
    }
   ],
   "source": [
    "dataset.columns"
   ]
  },
  {
   "cell_type": "code",
   "execution_count": 394,
   "id": "e97c260d-f1ec-43c7-8633-4811981d0951",
   "metadata": {},
   "outputs": [
    {
     "data": {
      "text/html": [
       "<div>\n",
       "<style scoped>\n",
       "    .dataframe tbody tr th:only-of-type {\n",
       "        vertical-align: middle;\n",
       "    }\n",
       "\n",
       "    .dataframe tbody tr th {\n",
       "        vertical-align: top;\n",
       "    }\n",
       "\n",
       "    .dataframe thead th {\n",
       "        text-align: right;\n",
       "    }\n",
       "</style>\n",
       "<table border=\"1\" class=\"dataframe\">\n",
       "  <thead>\n",
       "    <tr style=\"text-align: right;\">\n",
       "      <th></th>\n",
       "      <th>sex</th>\n",
       "      <th>smoker</th>\n",
       "    </tr>\n",
       "  </thead>\n",
       "  <tbody>\n",
       "    <tr>\n",
       "      <th>0</th>\n",
       "      <td>Female</td>\n",
       "      <td>No</td>\n",
       "    </tr>\n",
       "    <tr>\n",
       "      <th>1</th>\n",
       "      <td>Male</td>\n",
       "      <td>No</td>\n",
       "    </tr>\n",
       "    <tr>\n",
       "      <th>2</th>\n",
       "      <td>Male</td>\n",
       "      <td>No</td>\n",
       "    </tr>\n",
       "    <tr>\n",
       "      <th>3</th>\n",
       "      <td>Male</td>\n",
       "      <td>No</td>\n",
       "    </tr>\n",
       "    <tr>\n",
       "      <th>4</th>\n",
       "      <td>Female</td>\n",
       "      <td>No</td>\n",
       "    </tr>\n",
       "    <tr>\n",
       "      <th>...</th>\n",
       "      <td>...</td>\n",
       "      <td>...</td>\n",
       "    </tr>\n",
       "    <tr>\n",
       "      <th>239</th>\n",
       "      <td>Male</td>\n",
       "      <td>No</td>\n",
       "    </tr>\n",
       "    <tr>\n",
       "      <th>240</th>\n",
       "      <td>Female</td>\n",
       "      <td>Yes</td>\n",
       "    </tr>\n",
       "    <tr>\n",
       "      <th>241</th>\n",
       "      <td>Male</td>\n",
       "      <td>Yes</td>\n",
       "    </tr>\n",
       "    <tr>\n",
       "      <th>242</th>\n",
       "      <td>Male</td>\n",
       "      <td>No</td>\n",
       "    </tr>\n",
       "    <tr>\n",
       "      <th>243</th>\n",
       "      <td>Female</td>\n",
       "      <td>No</td>\n",
       "    </tr>\n",
       "  </tbody>\n",
       "</table>\n",
       "<p>244 rows × 2 columns</p>\n",
       "</div>"
      ],
      "text/plain": [
       "        sex smoker\n",
       "0    Female     No\n",
       "1      Male     No\n",
       "2      Male     No\n",
       "3      Male     No\n",
       "4    Female     No\n",
       "..      ...    ...\n",
       "239    Male     No\n",
       "240  Female    Yes\n",
       "241    Male    Yes\n",
       "242    Male     No\n",
       "243  Female     No\n",
       "\n",
       "[244 rows x 2 columns]"
      ]
     },
     "execution_count": 394,
     "metadata": {},
     "output_type": "execute_result"
    }
   ],
   "source": [
    "dataset[['sex','smoker']]"
   ]
  },
  {
   "cell_type": "code",
   "execution_count": 412,
   "id": "ba2c37b5-fc86-4b41-9680-3f5c0f1082f1",
   "metadata": {},
   "outputs": [],
   "source": [
    "dataset_table=pd.crosstab(dataset['sex'],dataset['smoker'])"
   ]
  },
  {
   "cell_type": "code",
   "execution_count": 416,
   "id": "68c7af91-8515-4c1b-9a24-509a046a9bb0",
   "metadata": {},
   "outputs": [],
   "source": [
    "Observed_Values = dataset_table.values "
   ]
  },
  {
   "cell_type": "code",
   "execution_count": 418,
   "id": "69db9d41-574d-4e2b-93dd-9287e05ca90a",
   "metadata": {},
   "outputs": [
    {
     "data": {
      "text/html": [
       "<div>\n",
       "<style scoped>\n",
       "    .dataframe tbody tr th:only-of-type {\n",
       "        vertical-align: middle;\n",
       "    }\n",
       "\n",
       "    .dataframe tbody tr th {\n",
       "        vertical-align: top;\n",
       "    }\n",
       "\n",
       "    .dataframe thead th {\n",
       "        text-align: right;\n",
       "    }\n",
       "</style>\n",
       "<table border=\"1\" class=\"dataframe\">\n",
       "  <thead>\n",
       "    <tr style=\"text-align: right;\">\n",
       "      <th>smoker</th>\n",
       "      <th>Yes</th>\n",
       "      <th>No</th>\n",
       "    </tr>\n",
       "    <tr>\n",
       "      <th>sex</th>\n",
       "      <th></th>\n",
       "      <th></th>\n",
       "    </tr>\n",
       "  </thead>\n",
       "  <tbody>\n",
       "    <tr>\n",
       "      <th>Male</th>\n",
       "      <td>60</td>\n",
       "      <td>97</td>\n",
       "    </tr>\n",
       "    <tr>\n",
       "      <th>Female</th>\n",
       "      <td>33</td>\n",
       "      <td>54</td>\n",
       "    </tr>\n",
       "  </tbody>\n",
       "</table>\n",
       "</div>"
      ],
      "text/plain": [
       "smoker  Yes  No\n",
       "sex            \n",
       "Male     60  97\n",
       "Female   33  54"
      ]
     },
     "execution_count": 418,
     "metadata": {},
     "output_type": "execute_result"
    }
   ],
   "source": [
    "dataset_table"
   ]
  },
  {
   "cell_type": "code",
   "execution_count": 424,
   "id": "056c001a-d9fe-4931-a0e4-fb5b418d5313",
   "metadata": {},
   "outputs": [],
   "source": [
    "dataset_array = dataset_table.to_numpy()"
   ]
  },
  {
   "cell_type": "code",
   "execution_count": 426,
   "id": "ba2aad30-8b47-401f-aa4c-6ae38a20baeb",
   "metadata": {},
   "outputs": [
    {
     "data": {
      "text/plain": [
       "array([[60, 97],\n",
       "       [33, 54]], dtype=int64)"
      ]
     },
     "execution_count": 426,
     "metadata": {},
     "output_type": "execute_result"
    }
   ],
   "source": [
    "dataset_array"
   ]
  },
  {
   "cell_type": "code",
   "execution_count": 428,
   "id": "7e76d7f6-6c9e-48ac-bdf8-6551c2259a75",
   "metadata": {},
   "outputs": [
    {
     "name": "stdout",
     "output_type": "stream",
     "text": [
      "observed value(real value) \n",
      " [[60 97]\n",
      " [33 54]]\n"
     ]
    }
   ],
   "source": [
    "print(f\"observed value(real value) \\n {dataset_array}\")"
   ]
  },
  {
   "cell_type": "code",
   "execution_count": 430,
   "id": "1a3f9eb9-dcae-42f2-84c9-c369876f17e4",
   "metadata": {},
   "outputs": [],
   "source": [
    "import scipy.stats as stats"
   ]
  },
  {
   "cell_type": "code",
   "execution_count": 432,
   "id": "b30539c3-9095-4eee-80fb-a6247687e708",
   "metadata": {},
   "outputs": [],
   "source": [
    "stats_test,p,dof,Expected_Values=stats.chi2_contingency(dataset_array)"
   ]
  },
  {
   "cell_type": "code",
   "execution_count": 434,
   "id": "b96c9946-cc5f-4d80-957d-ea2944bf3c48",
   "metadata": {},
   "outputs": [
    {
     "data": {
      "text/plain": [
       "1.0"
      ]
     },
     "execution_count": 434,
     "metadata": {},
     "output_type": "execute_result"
    }
   ],
   "source": [
    "p"
   ]
  },
  {
   "cell_type": "code",
   "execution_count": 436,
   "id": "1683e670-991a-4cc4-a01a-5d260cb1d954",
   "metadata": {},
   "outputs": [
    {
     "name": "stdout",
     "output_type": "stream",
     "text": [
      "observed value(real value) \n",
      " [[60 97]\n",
      " [33 54]]\n"
     ]
    }
   ],
   "source": [
    "print(f\"observed value(real value) \\n {dataset_array}\")"
   ]
  },
  {
   "cell_type": "code",
   "execution_count": 438,
   "id": "07a0212e-23d4-4022-ac2e-43f193caa81e",
   "metadata": {},
   "outputs": [
    {
     "data": {
      "text/plain": [
       "array([[59.84016393, 97.15983607],\n",
       "       [33.15983607, 53.84016393]])"
      ]
     },
     "execution_count": 438,
     "metadata": {},
     "output_type": "execute_result"
    }
   ],
   "source": [
    "Expected_Values"
   ]
  },
  {
   "cell_type": "code",
   "execution_count": 440,
   "id": "82596934-ce85-4986-bf10-519c0b92ac95",
   "metadata": {},
   "outputs": [
    {
     "data": {
      "text/html": [
       "<div>\n",
       "<style scoped>\n",
       "    .dataframe tbody tr th:only-of-type {\n",
       "        vertical-align: middle;\n",
       "    }\n",
       "\n",
       "    .dataframe tbody tr th {\n",
       "        vertical-align: top;\n",
       "    }\n",
       "\n",
       "    .dataframe thead th {\n",
       "        text-align: right;\n",
       "    }\n",
       "</style>\n",
       "<table border=\"1\" class=\"dataframe\">\n",
       "  <thead>\n",
       "    <tr style=\"text-align: right;\">\n",
       "      <th>smoker</th>\n",
       "      <th>Yes</th>\n",
       "      <th>No</th>\n",
       "    </tr>\n",
       "    <tr>\n",
       "      <th>sex</th>\n",
       "      <th></th>\n",
       "      <th></th>\n",
       "    </tr>\n",
       "  </thead>\n",
       "  <tbody>\n",
       "    <tr>\n",
       "      <th>Male</th>\n",
       "      <td>60</td>\n",
       "      <td>97</td>\n",
       "    </tr>\n",
       "    <tr>\n",
       "      <th>Female</th>\n",
       "      <td>33</td>\n",
       "      <td>54</td>\n",
       "    </tr>\n",
       "  </tbody>\n",
       "</table>\n",
       "</div>"
      ],
      "text/plain": [
       "smoker  Yes  No\n",
       "sex            \n",
       "Male     60  97\n",
       "Female   33  54"
      ]
     },
     "execution_count": 440,
     "metadata": {},
     "output_type": "execute_result"
    }
   ],
   "source": [
    "dataset_table"
   ]
  },
  {
   "cell_type": "code",
   "execution_count": 442,
   "id": "e6f95acb-bf5f-4af4-9692-78454d145601",
   "metadata": {},
   "outputs": [],
   "source": [
    "no_of_rows=dataset_table.iloc[0:2,0]"
   ]
  },
  {
   "cell_type": "code",
   "execution_count": 444,
   "id": "8e4f33ee-bf45-4bec-ab2b-57a061e64bcc",
   "metadata": {},
   "outputs": [
    {
     "data": {
      "text/plain": [
       "2"
      ]
     },
     "execution_count": 444,
     "metadata": {},
     "output_type": "execute_result"
    }
   ],
   "source": [
    "len(no_of_rows)"
   ]
  },
  {
   "cell_type": "code",
   "execution_count": 446,
   "id": "5bbe9935-a0df-4095-8a51-0e56a0ea27b8",
   "metadata": {},
   "outputs": [
    {
     "data": {
      "text/plain": [
       "sex\n",
       "Male      60\n",
       "Female    33\n",
       "Name: Yes, dtype: int64"
      ]
     },
     "execution_count": 446,
     "metadata": {},
     "output_type": "execute_result"
    }
   ],
   "source": [
    "no_of_rows"
   ]
  },
  {
   "cell_type": "code",
   "execution_count": 448,
   "id": "c27ba162-3220-4a4e-b1fd-255621abb15b",
   "metadata": {},
   "outputs": [],
   "source": [
    "no_of_columns=dataset_table.iloc[0,0:2]"
   ]
  },
  {
   "cell_type": "code",
   "execution_count": 450,
   "id": "da722d2b-987b-40f6-b582-63914b594629",
   "metadata": {},
   "outputs": [
    {
     "data": {
      "text/plain": [
       "smoker\n",
       "Yes    60\n",
       "No     97\n",
       "Name: Male, dtype: int64"
      ]
     },
     "execution_count": 450,
     "metadata": {},
     "output_type": "execute_result"
    }
   ],
   "source": [
    "no_of_columns"
   ]
  },
  {
   "cell_type": "code",
   "execution_count": 452,
   "id": "90718e03-8dff-4ae2-b44c-aadfe982ab38",
   "metadata": {},
   "outputs": [
    {
     "data": {
      "text/plain": [
       "2"
      ]
     },
     "execution_count": 452,
     "metadata": {},
     "output_type": "execute_result"
    }
   ],
   "source": [
    "len(no_of_columns)"
   ]
  },
  {
   "cell_type": "code",
   "execution_count": 454,
   "id": "6d4d92e7-10cc-43f6-87ba-8facd01777bc",
   "metadata": {},
   "outputs": [],
   "source": [
    "dof=(len(no_of_columns)-1)*(len(no_of_rows)-1)"
   ]
  },
  {
   "cell_type": "code",
   "execution_count": 458,
   "id": "c55ccaee-42f2-45c5-805f-7368aff96eb9",
   "metadata": {},
   "outputs": [
    {
     "data": {
      "text/plain": [
       "1"
      ]
     },
     "execution_count": 458,
     "metadata": {},
     "output_type": "execute_result"
    }
   ],
   "source": [
    "dof"
   ]
  },
  {
   "cell_type": "code",
   "execution_count": 460,
   "id": "b3042c0c-093f-4989-a43f-0bfd8f03e44f",
   "metadata": {},
   "outputs": [
    {
     "name": "stdout",
     "output_type": "stream",
     "text": [
      "[60 97] [59.84016393 97.15983607]\n",
      "[33 54] [33.15983607 53.84016393]\n"
     ]
    }
   ],
   "source": [
    "for o,e in zip(Observed_Values,Expected_Values):\n",
    "    print(o,e)"
   ]
  },
  {
   "cell_type": "code",
   "execution_count": 462,
   "id": "8100c9ae-2453-4789-8413-dfb667f624ef",
   "metadata": {},
   "outputs": [],
   "source": [
    "from scipy.stats import chi2\n",
    "chisqure_test=sum([(o-e)**2./e for o,e in zip(Observed_Values,Expected_Values)])"
   ]
  },
  {
   "cell_type": "code",
   "execution_count": 464,
   "id": "e3e76e65-154f-4552-868d-39e2c32808d7",
   "metadata": {},
   "outputs": [
    {
     "data": {
      "text/plain": [
       "array([0.00119737, 0.00073745])"
      ]
     },
     "execution_count": 464,
     "metadata": {},
     "output_type": "execute_result"
    }
   ],
   "source": [
    "chisqure_test"
   ]
  },
  {
   "cell_type": "code",
   "execution_count": 466,
   "id": "113890b6-8ce1-420b-b2cc-5b1ce240d3d6",
   "metadata": {},
   "outputs": [],
   "source": [
    "chi_square_statistic=chisqure_test[0]+chisqure_test[1]"
   ]
  },
  {
   "cell_type": "code",
   "execution_count": 468,
   "id": "a4bd720a-2666-4eeb-a3d9-7ce94570347a",
   "metadata": {},
   "outputs": [],
   "source": [
    "alpha=0.05"
   ]
  },
  {
   "cell_type": "code",
   "execution_count": 470,
   "id": "d6310983-b1f8-4923-88ab-aaef1e20b403",
   "metadata": {},
   "outputs": [
    {
     "data": {
      "text/plain": [
       "1"
      ]
     },
     "execution_count": 470,
     "metadata": {},
     "output_type": "execute_result"
    }
   ],
   "source": [
    "dof"
   ]
  },
  {
   "cell_type": "code",
   "execution_count": 472,
   "id": "24d9a21c-b4d5-4365-9883-7764c3b61a49",
   "metadata": {},
   "outputs": [],
   "source": [
    "from scipy.stats import chi2\n",
    "critical_value=chi2.ppf(1-alpha,df=dof)"
   ]
  },
  {
   "cell_type": "code",
   "execution_count": 476,
   "id": "02cc36e2-8fad-489c-8336-ff341ba10837",
   "metadata": {},
   "outputs": [
    {
     "name": "stdout",
     "output_type": "stream",
     "text": [
      "Retain H0 , There is no relationship between 2 categorical variables\n"
     ]
    }
   ],
   "source": [
    "if chi_square_statistic>=critical_value:\n",
    "    print(\"Reject H0 , There is a relationship between 2 categorical variables\")\n",
    "else:\n",
    "    print(\"Retain H0 , There is no relationship between 2 categorical variables\")"
   ]
  },
  {
   "cell_type": "code",
   "execution_count": 478,
   "id": "2ee02af9-a806-4022-9c53-8b7940952f3b",
   "metadata": {},
   "outputs": [],
   "source": [
    "#p-value\n",
    "p_value=1-chi2.cdf(x=chi_square_statistic,df=dof)"
   ]
  },
  {
   "cell_type": "code",
   "execution_count": 484,
   "id": "d6aa26fc-eb48-47d2-8439-e1b6d6464d8a",
   "metadata": {},
   "outputs": [
    {
     "name": "stdout",
     "output_type": "stream",
     "text": [
      "Retain H0 , There is no relationship between 2 categorical variables\n"
     ]
    }
   ],
   "source": [
    "if p_value<=alpha:\n",
    "    print(\"Reject H0 , There is a relationship between 2 categorical variables\")\n",
    "else:\n",
    "    print(\"Retain H0 , There is no relationship between 2 categorical variables\")"
   ]
  },
  {
   "cell_type": "code",
   "execution_count": null,
   "id": "2ad0f90a-4ab1-43bc-99b4-3616f3464176",
   "metadata": {},
   "outputs": [],
   "source": []
  }
 ],
 "metadata": {
  "kernelspec": {
   "display_name": "Python 3 (ipykernel)",
   "language": "python",
   "name": "python3"
  },
  "language_info": {
   "codemirror_mode": {
    "name": "ipython",
    "version": 3
   },
   "file_extension": ".py",
   "mimetype": "text/x-python",
   "name": "python",
   "nbconvert_exporter": "python",
   "pygments_lexer": "ipython3",
   "version": "3.12.4"
  }
 },
 "nbformat": 4,
 "nbformat_minor": 5
}
